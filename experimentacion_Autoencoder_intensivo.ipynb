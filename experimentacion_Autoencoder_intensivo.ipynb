{
 "cells": [
  {
   "cell_type": "code",
   "execution_count": 78,
   "metadata": {
    "_cell_guid": "b1076dfc-b9ad-4769-8c92-a6c4dae69d19",
    "_uuid": "8f2839f25d086af736a60e9eeb907d3b93b6e0e5",
    "execution": {
     "iopub.execute_input": "2021-11-04T14:43:08.517426Z",
     "iopub.status.busy": "2021-11-04T14:43:08.517025Z",
     "iopub.status.idle": "2021-11-04T14:43:08.523006Z",
     "shell.execute_reply": "2021-11-04T14:43:08.522326Z",
     "shell.execute_reply.started": "2021-11-04T14:43:08.517391Z"
    }
   },
   "outputs": [],
   "source": [
    "import numpy as np # linear algebra\n",
    "import pandas as pd # data processing, CSV file I/O (e.g. pd.read_csv)\n"
   ]
  },
  {
   "cell_type": "code",
   "execution_count": 6,
   "metadata": {
    "execution": {
     "iopub.execute_input": "2021-11-04T15:10:40.196574Z",
     "iopub.status.busy": "2021-11-04T15:10:40.196221Z",
     "iopub.status.idle": "2021-11-04T15:10:40.596392Z",
     "shell.execute_reply": "2021-11-04T15:10:40.595636Z",
     "shell.execute_reply.started": "2021-11-04T15:10:40.196529Z"
    }
   },
   "outputs": [],
   "source": [
    "from autoencoders import autoencoder\n",
    "import tensorflow as tf\n",
    "\n",
    "(x_train, y_train), (x_val, y_val) = tf.keras.datasets.fashion_mnist.load_data()\n",
    "\n",
    "#distintas profundidades para un mismo espacio latente por cada lista\n",
    "modelDepths_100 = [[100], [392,100,392],[392,196,100,196,392]]\n",
    "\n",
    "modelDepths_75 = [[75],[588,75,588] ,[588,441,75,441,588],\n",
    "                  [588,441,330,250,75,250,330,441,588]]\n",
    "\n",
    "modelDepths_50 = [[50],[392,50,392] ,[392,196,50,196,392],[392,196,100,50,100,196,392]]\n",
    "\n",
    "modelDepths_25 = [[25],[392,25,392],[392,196,25,196,392],[392,196,100,50,25,50,100,196,392]]\n",
    "\n",
    "modelDepths_15 = [[15], [392,15,392], [392,196,15,196,392],[392,196,100,50,25,15,25,50,100,196,392]]\n",
    "\n",
    "modelDepths_5 = [[5], [200,5,200], [392,196,100,50,25,10,5,10,25,50,100,196,392]]\n"
   ]
  },
  {
   "cell_type": "code",
   "execution_count": 4,
   "metadata": {
    "execution": {
     "iopub.execute_input": "2021-11-04T14:43:16.700868Z",
     "iopub.status.busy": "2021-11-04T14:43:16.700284Z",
     "iopub.status.idle": "2021-11-04T14:43:16.706720Z",
     "shell.execute_reply": "2021-11-04T14:43:16.705888Z",
     "shell.execute_reply.started": "2021-11-04T14:43:16.700828Z"
    }
   },
   "outputs": [],
   "source": [
    "def multipleModels(seqDepths, X_train, X_val, y_train, y_val):\n",
    "  #given a sequence of autoencoder dephts, creates and trains the autoencoder and KNN the classifier\n",
    "  #returns a sequence with respective trained models\n",
    "  res = []\n",
    "  for arq in seqDepths:\n",
    "    res.append(autoencoder(arq, arq[int(len(arq)/2)], 'relu'))\n",
    "    res[-1].construct()\n",
    "    res[-1].trainAndReduce(X_train, X_val)\n",
    "    res[-1].diagnose(y_train,y_val,15)\n",
    "  \n",
    "  return res\n"
   ]
  },
  {
   "cell_type": "code",
   "execution_count": 5,
   "metadata": {
    "execution": {
     "iopub.execute_input": "2021-11-04T14:43:20.441142Z",
     "iopub.status.busy": "2021-11-04T14:43:20.440588Z",
     "iopub.status.idle": "2021-11-04T15:10:40.194726Z",
     "shell.execute_reply": "2021-11-04T15:10:40.193066Z",
     "shell.execute_reply.started": "2021-11-04T14:43:20.441104Z"
    }
   },
   "outputs": [],
   "source": [
    "models_100 = multipleModels(modelDepths_100, x_train,x_val,y_train, y_val)"
   ]
  },
  {
   "cell_type": "code",
   "execution_count": 7,
   "metadata": {
    "execution": {
     "iopub.execute_input": "2021-11-04T15:13:50.615616Z",
     "iopub.status.busy": "2021-11-04T15:13:50.615030Z",
     "iopub.status.idle": "2021-11-04T15:48:04.578812Z",
     "shell.execute_reply": "2021-11-04T15:48:04.578010Z",
     "shell.execute_reply.started": "2021-11-04T15:13:50.615574Z"
    }
   },
   "outputs": [],
   "source": [
    "models_75 = multipleModels(modelDepths_75, x_train,x_val,y_train,y_val)\n"
   ]
  },
  {
   "cell_type": "code",
   "execution_count": 8,
   "metadata": {
    "execution": {
     "iopub.execute_input": "2021-11-04T15:48:04.581101Z",
     "iopub.status.busy": "2021-11-04T15:48:04.580635Z",
     "iopub.status.idle": "2021-11-04T16:19:15.596653Z",
     "shell.execute_reply": "2021-11-04T16:19:15.595829Z",
     "shell.execute_reply.started": "2021-11-04T15:48:04.581059Z"
    }
   },
   "outputs": [],
   "source": [
    "models_50 = multipleModels(modelDepths_50, x_train,x_val,y_train,y_val)\n"
   ]
  },
  {
   "cell_type": "code",
   "execution_count": 9,
   "metadata": {
    "execution": {
     "iopub.execute_input": "2021-11-04T16:21:08.706130Z",
     "iopub.status.busy": "2021-11-04T16:21:08.705366Z",
     "iopub.status.idle": "2021-11-04T16:45:55.803779Z",
     "shell.execute_reply": "2021-11-04T16:45:55.801874Z",
     "shell.execute_reply.started": "2021-11-04T16:21:08.706080Z"
    }
   },
   "outputs": [],
   "source": [
    "models_25 = multipleModels(modelDepths_25, x_train,x_val,y_train,y_val)\n"
   ]
  },
  {
   "cell_type": "code",
   "execution_count": 10,
   "metadata": {
    "execution": {
     "iopub.execute_input": "2021-11-04T16:45:55.806971Z",
     "iopub.status.busy": "2021-11-04T16:45:55.806760Z",
     "iopub.status.idle": "2021-11-04T17:06:09.118961Z",
     "shell.execute_reply": "2021-11-04T17:06:09.118188Z",
     "shell.execute_reply.started": "2021-11-04T16:45:55.806945Z"
    }
   },
   "outputs": [],
   "source": [
    "models_15 = multipleModels(modelDepths_15, x_train,x_val,y_train,y_val)"
   ]
  },
  {
   "cell_type": "code",
   "execution_count": 11,
   "metadata": {
    "execution": {
     "iopub.execute_input": "2021-11-04T17:06:09.120807Z",
     "iopub.status.busy": "2021-11-04T17:06:09.120384Z",
     "iopub.status.idle": "2021-11-04T17:12:04.785985Z",
     "shell.execute_reply": "2021-11-04T17:12:04.785124Z",
     "shell.execute_reply.started": "2021-11-04T17:06:09.120769Z"
    }
   },
   "outputs": [],
   "source": [
    "models_5 = multipleModels(modelDepths_5, x_train,x_val,y_train,y_val)"
   ]
  },
  {
   "cell_type": "code",
   "execution_count": 12,
   "metadata": {
    "execution": {
     "iopub.execute_input": "2021-11-04T17:12:36.481421Z",
     "iopub.status.busy": "2021-11-04T17:12:36.481125Z",
     "iopub.status.idle": "2021-11-04T17:12:36.487112Z",
     "shell.execute_reply": "2021-11-04T17:12:36.484764Z",
     "shell.execute_reply.started": "2021-11-04T17:12:36.481389Z"
    }
   },
   "outputs": [],
   "source": [
    "all_models = [models_5,models_15,models_25, models_50, models_75, models_100]"
   ]
  },
  {
   "cell_type": "code",
   "execution_count": 68,
   "metadata": {
    "collapsed": true,
    "execution": {
     "iopub.execute_input": "2021-11-04T17:29:30.299350Z",
     "iopub.status.busy": "2021-11-04T17:29:30.299046Z",
     "iopub.status.idle": "2021-11-04T17:29:30.324199Z",
     "shell.execute_reply": "2021-11-04T17:29:30.323393Z",
     "shell.execute_reply.started": "2021-11-04T17:29:30.299298Z"
    }
   },
   "outputs": [
    {
     "ename": "NameError",
     "evalue": "name 'all_models' is not defined",
     "output_type": "error",
     "traceback": [
      "\u001b[0;31m---------------------------------------------------------------------------\u001b[0m",
      "\u001b[0;31mNameError\u001b[0m                                 Traceback (most recent call last)",
      "\u001b[0;32m/tmp/ipykernel_79034/986090597.py\u001b[0m in \u001b[0;36m<module>\u001b[0;34m\u001b[0m\n\u001b[1;32m      7\u001b[0m \u001b[0mmodel_classif_acc\u001b[0m \u001b[0;34m=\u001b[0m \u001b[0;34m[\u001b[0m\u001b[0;34m]\u001b[0m\u001b[0;34m\u001b[0m\u001b[0;34m\u001b[0m\u001b[0m\n\u001b[1;32m      8\u001b[0m \u001b[0mmodel_loss\u001b[0m \u001b[0;34m=\u001b[0m \u001b[0;34m[\u001b[0m\u001b[0;34m]\u001b[0m\u001b[0;34m\u001b[0m\u001b[0;34m\u001b[0m\u001b[0m\n\u001b[0;32m----> 9\u001b[0;31m \u001b[0;32mfor\u001b[0m \u001b[0mmodels\u001b[0m \u001b[0;32min\u001b[0m \u001b[0mall_models\u001b[0m\u001b[0;34m:\u001b[0m\u001b[0;34m\u001b[0m\u001b[0;34m\u001b[0m\u001b[0m\n\u001b[0m\u001b[1;32m     10\u001b[0m   \u001b[0;32mfor\u001b[0m \u001b[0mmodel\u001b[0m \u001b[0;32min\u001b[0m \u001b[0mmodels\u001b[0m\u001b[0;34m:\u001b[0m\u001b[0;34m\u001b[0m\u001b[0;34m\u001b[0m\u001b[0m\n\u001b[1;32m     11\u001b[0m     \u001b[0mmodel_depth\u001b[0m\u001b[0;34m.\u001b[0m\u001b[0mappend\u001b[0m\u001b[0;34m(\u001b[0m\u001b[0mlen\u001b[0m\u001b[0;34m(\u001b[0m\u001b[0mmodel\u001b[0m\u001b[0;34m.\u001b[0m\u001b[0mhDims\u001b[0m\u001b[0;34m)\u001b[0m\u001b[0;34m)\u001b[0m\u001b[0;34m\u001b[0m\u001b[0;34m\u001b[0m\u001b[0m\n",
      "\u001b[0;31mNameError\u001b[0m: name 'all_models' is not defined"
     ]
    }
   ],
   "source": [
    "#performance df con 1 columna por modelo\n",
    "\n",
    "model_depth = []\n",
    "latentDims = []\n",
    "model_classif_time = []\n",
    "model_red_time = []\n",
    "model_classif_acc = []\n",
    "model_loss = []\n",
    "for models in all_models:\n",
    "  for model in models:\n",
    "    model_depth.append(len(model.hDims))\n",
    "    latentDims.append(model.lDim)\n",
    "    model_classif_time.append(model.classifierTimePerformances[0])\n",
    "    model_red_time.append(model.reductionTimePerformance)\n",
    "    model_classif_acc.append(model.classifierAccuracyPerformances[0])\n",
    "df_performances = pd.DataFrame([model_depth,latentDims,\n",
    "model_classif_time,\n",
    "model_red_time,\n",
    "model_classif_acc]).T\n",
    "df_performances.columns=['#hidden', 'latent dim', 't_classif', 't_red','acc']\n",
    "print(df_performances)\n",
    "\n",
    "\n"
   ]
  },
  {
   "cell_type": "code",
   "execution_count": 31,
   "metadata": {
    "execution": {
     "iopub.execute_input": "2021-11-04T17:32:57.261052Z",
     "iopub.status.busy": "2021-11-04T17:32:57.260479Z",
     "iopub.status.idle": "2021-11-04T17:32:57.270478Z",
     "shell.execute_reply": "2021-11-04T17:32:57.269757Z",
     "shell.execute_reply.started": "2021-11-04T17:32:57.261012Z"
    }
   },
   "outputs": [],
   "source": [
    "df_performances.to_csv(\"autoenc_performances.csv\")\n"
   ]
  },
  {
   "cell_type": "markdown",
   "metadata": {},
   "source": [
    "# Resultados\n",
    "nota: esta notebook fue corrida en kaggle.com por una cuestion de recursos y de tiempo de ejecucion"
   ]
  },
  {
   "cell_type": "code",
   "execution_count": 23,
   "metadata": {},
   "outputs": [],
   "source": [
    "import pandas as pd\n",
    "df_performances = pd.read_csv(\"autoenc_performances.csv\", index_col=\"Unnamed: 0\")\n",
    "df_performances.rename(columns ={\"latent dim\":\"latent_dim\", \"# hidden\": \"nHidden\"}, inplace=True)"
   ]
  },
  {
   "cell_type": "markdown",
   "metadata": {},
   "source": [
    "## Analisis de los Resultados:\n",
    "\n",
    "-(hecho)tiempo de clasificacion en funcion del espacio latente (un histograma por espacio)\n",
    "-(hecho)accuracy en funcion del espacio latente y el numero de capas (superficie)\n",
    "-(hecho)tiempo de reduccion en funcion del numero de capas y el espacio latente\n",
    "-misma profundidad, distintas dimensiones\n",
    "conclusiones (chequear): mas profundidad (a mismo espacio latente) -> mas accuracy\n",
    "                                                pero tambien -> mas t-reduccion\n",
    "                         menor dimension -> menor t-clasif\n",
    "                         \n",
    "                         "
   ]
  },
  {
   "cell_type": "code",
   "execution_count": 29,
   "metadata": {},
   "outputs": [
    {
     "name": "stderr",
     "output_type": "stream",
     "text": [
      "/tmp/ipykernel_7219/4253812337.py:7: SettingWithCopyWarning: \n",
      "A value is trying to be set on a copy of a slice from a DataFrame.\n",
      "Try using .loc[row_indexer,col_indexer] = value instead\n",
      "\n",
      "See the caveats in the documentation: https://pandas.pydata.org/pandas-docs/stable/user_guide/indexing.html#returning-a-view-versus-a-copy\n",
      "  df['nHidden']=df['nHidden'].astype(int)\n",
      "/tmp/ipykernel_7219/4253812337.py:8: SettingWithCopyWarning: \n",
      "A value is trying to be set on a copy of a slice from a DataFrame.\n",
      "Try using .loc[row_indexer,col_indexer] = value instead\n",
      "\n",
      "See the caveats in the documentation: https://pandas.pydata.org/pandas-docs/stable/user_guide/indexing.html#returning-a-view-versus-a-copy\n",
      "  df['latent_dim'] = df['latent_dim'].astype(int)\n"
     ]
    }
   ],
   "source": [
    "dfs = []\n",
    "for k in [5,15,25,50,75,100]:\n",
    "     dfs.append(df_performances[df_performances[\"latent_dim\"]== k])\n",
    "\n",
    "\n",
    "for df in dfs:\n",
    "    df['nHidden']=df['nHidden'].astype(int)\n",
    "    df['latent_dim'] = df['latent_dim'].astype(int)"
   ]
  },
  {
   "cell_type": "code",
   "execution_count": 28,
   "metadata": {},
   "outputs": [
    {
     "data": {
      "text/html": [
       "<div>\n",
       "<style scoped>\n",
       "    .dataframe tbody tr th:only-of-type {\n",
       "        vertical-align: middle;\n",
       "    }\n",
       "\n",
       "    .dataframe tbody tr th {\n",
       "        vertical-align: top;\n",
       "    }\n",
       "\n",
       "    .dataframe thead th {\n",
       "        text-align: right;\n",
       "    }\n",
       "</style>\n",
       "<table border=\"1\" class=\"dataframe\">\n",
       "  <thead>\n",
       "    <tr style=\"text-align: right;\">\n",
       "      <th></th>\n",
       "      <th>nHidden</th>\n",
       "      <th>latent_dim</th>\n",
       "      <th>t_classif</th>\n",
       "      <th>t_red</th>\n",
       "      <th>acc</th>\n",
       "    </tr>\n",
       "  </thead>\n",
       "  <tbody>\n",
       "    <tr>\n",
       "      <th>0</th>\n",
       "      <td>1.0</td>\n",
       "      <td>5.0</td>\n",
       "      <td>49.707213</td>\n",
       "      <td>36.440642</td>\n",
       "      <td>0.7570</td>\n",
       "    </tr>\n",
       "    <tr>\n",
       "      <th>1</th>\n",
       "      <td>3.0</td>\n",
       "      <td>5.0</td>\n",
       "      <td>66.966978</td>\n",
       "      <td>41.917629</td>\n",
       "      <td>0.8108</td>\n",
       "    </tr>\n",
       "    <tr>\n",
       "      <th>2</th>\n",
       "      <td>13.0</td>\n",
       "      <td>5.0</td>\n",
       "      <td>66.747666</td>\n",
       "      <td>83.144911</td>\n",
       "      <td>0.8100</td>\n",
       "    </tr>\n",
       "    <tr>\n",
       "      <th>3</th>\n",
       "      <td>1.0</td>\n",
       "      <td>15.0</td>\n",
       "      <td>198.137094</td>\n",
       "      <td>41.869787</td>\n",
       "      <td>0.8281</td>\n",
       "    </tr>\n",
       "    <tr>\n",
       "      <th>4</th>\n",
       "      <td>3.0</td>\n",
       "      <td>15.0</td>\n",
       "      <td>276.126565</td>\n",
       "      <td>39.180795</td>\n",
       "      <td>0.8544</td>\n",
       "    </tr>\n",
       "    <tr>\n",
       "      <th>5</th>\n",
       "      <td>5.0</td>\n",
       "      <td>15.0</td>\n",
       "      <td>290.101149</td>\n",
       "      <td>82.931478</td>\n",
       "      <td>0.8556</td>\n",
       "    </tr>\n",
       "    <tr>\n",
       "      <th>6</th>\n",
       "      <td>11.0</td>\n",
       "      <td>15.0</td>\n",
       "      <td>222.380187</td>\n",
       "      <td>49.295376</td>\n",
       "      <td>0.8507</td>\n",
       "    </tr>\n",
       "    <tr>\n",
       "      <th>7</th>\n",
       "      <td>1.0</td>\n",
       "      <td>25.0</td>\n",
       "      <td>301.645557</td>\n",
       "      <td>41.855028</td>\n",
       "      <td>0.8414</td>\n",
       "    </tr>\n",
       "    <tr>\n",
       "      <th>8</th>\n",
       "      <td>3.0</td>\n",
       "      <td>25.0</td>\n",
       "      <td>356.903113</td>\n",
       "      <td>39.106270</td>\n",
       "      <td>0.8570</td>\n",
       "    </tr>\n",
       "    <tr>\n",
       "      <th>9</th>\n",
       "      <td>5.0</td>\n",
       "      <td>25.0</td>\n",
       "      <td>360.988705</td>\n",
       "      <td>41.937099</td>\n",
       "      <td>0.8596</td>\n",
       "    </tr>\n",
       "    <tr>\n",
       "      <th>10</th>\n",
       "      <td>9.0</td>\n",
       "      <td>25.0</td>\n",
       "      <td>284.440724</td>\n",
       "      <td>46.099954</td>\n",
       "      <td>0.8546</td>\n",
       "    </tr>\n",
       "    <tr>\n",
       "      <th>11</th>\n",
       "      <td>1.0</td>\n",
       "      <td>50.0</td>\n",
       "      <td>421.436010</td>\n",
       "      <td>37.063633</td>\n",
       "      <td>0.8491</td>\n",
       "    </tr>\n",
       "    <tr>\n",
       "      <th>12</th>\n",
       "      <td>3.0</td>\n",
       "      <td>50.0</td>\n",
       "      <td>427.972896</td>\n",
       "      <td>39.633457</td>\n",
       "      <td>0.8589</td>\n",
       "    </tr>\n",
       "    <tr>\n",
       "      <th>13</th>\n",
       "      <td>5.0</td>\n",
       "      <td>50.0</td>\n",
       "      <td>419.282906</td>\n",
       "      <td>42.073037</td>\n",
       "      <td>0.8618</td>\n",
       "    </tr>\n",
       "    <tr>\n",
       "      <th>14</th>\n",
       "      <td>7.0</td>\n",
       "      <td>50.0</td>\n",
       "      <td>386.847719</td>\n",
       "      <td>82.961975</td>\n",
       "      <td>0.8593</td>\n",
       "    </tr>\n",
       "    <tr>\n",
       "      <th>15</th>\n",
       "      <td>1.0</td>\n",
       "      <td>75.0</td>\n",
       "      <td>503.248090</td>\n",
       "      <td>41.838727</td>\n",
       "      <td>0.8517</td>\n",
       "    </tr>\n",
       "    <tr>\n",
       "      <th>16</th>\n",
       "      <td>3.0</td>\n",
       "      <td>75.0</td>\n",
       "      <td>485.558364</td>\n",
       "      <td>38.772011</td>\n",
       "      <td>0.8590</td>\n",
       "    </tr>\n",
       "    <tr>\n",
       "      <th>17</th>\n",
       "      <td>5.0</td>\n",
       "      <td>75.0</td>\n",
       "      <td>500.429974</td>\n",
       "      <td>42.324846</td>\n",
       "      <td>0.8615</td>\n",
       "    </tr>\n",
       "    <tr>\n",
       "      <th>18</th>\n",
       "      <td>9.0</td>\n",
       "      <td>75.0</td>\n",
       "      <td>380.884601</td>\n",
       "      <td>47.429709</td>\n",
       "      <td>0.8577</td>\n",
       "    </tr>\n",
       "    <tr>\n",
       "      <th>19</th>\n",
       "      <td>1.0</td>\n",
       "      <td>100.0</td>\n",
       "      <td>521.482926</td>\n",
       "      <td>37.081169</td>\n",
       "      <td>0.8512</td>\n",
       "    </tr>\n",
       "    <tr>\n",
       "      <th>20</th>\n",
       "      <td>3.0</td>\n",
       "      <td>100.0</td>\n",
       "      <td>495.576877</td>\n",
       "      <td>39.063481</td>\n",
       "      <td>0.8547</td>\n",
       "    </tr>\n",
       "    <tr>\n",
       "      <th>21</th>\n",
       "      <td>5.0</td>\n",
       "      <td>100.0</td>\n",
       "      <td>491.394943</td>\n",
       "      <td>41.958640</td>\n",
       "      <td>0.8599</td>\n",
       "    </tr>\n",
       "  </tbody>\n",
       "</table>\n",
       "</div>"
      ],
      "text/plain": [
       "    nHidden  latent_dim   t_classif      t_red     acc\n",
       "0       1.0         5.0   49.707213  36.440642  0.7570\n",
       "1       3.0         5.0   66.966978  41.917629  0.8108\n",
       "2      13.0         5.0   66.747666  83.144911  0.8100\n",
       "3       1.0        15.0  198.137094  41.869787  0.8281\n",
       "4       3.0        15.0  276.126565  39.180795  0.8544\n",
       "5       5.0        15.0  290.101149  82.931478  0.8556\n",
       "6      11.0        15.0  222.380187  49.295376  0.8507\n",
       "7       1.0        25.0  301.645557  41.855028  0.8414\n",
       "8       3.0        25.0  356.903113  39.106270  0.8570\n",
       "9       5.0        25.0  360.988705  41.937099  0.8596\n",
       "10      9.0        25.0  284.440724  46.099954  0.8546\n",
       "11      1.0        50.0  421.436010  37.063633  0.8491\n",
       "12      3.0        50.0  427.972896  39.633457  0.8589\n",
       "13      5.0        50.0  419.282906  42.073037  0.8618\n",
       "14      7.0        50.0  386.847719  82.961975  0.8593\n",
       "15      1.0        75.0  503.248090  41.838727  0.8517\n",
       "16      3.0        75.0  485.558364  38.772011  0.8590\n",
       "17      5.0        75.0  500.429974  42.324846  0.8615\n",
       "18      9.0        75.0  380.884601  47.429709  0.8577\n",
       "19      1.0       100.0  521.482926  37.081169  0.8512\n",
       "20      3.0       100.0  495.576877  39.063481  0.8547\n",
       "21      5.0       100.0  491.394943  41.958640  0.8599"
      ]
     },
     "execution_count": 28,
     "metadata": {},
     "output_type": "execute_result"
    }
   ],
   "source": [
    "df_performances"
   ]
  },
  {
   "cell_type": "code",
   "execution_count": 34,
   "metadata": {},
   "outputs": [],
   "source": [
    "import matplotlib.pyplot as plt\n",
    "import matplotlib as mpl\n",
    "import numpy as np\n",
    "%matplotlib inline"
   ]
  },
  {
   "cell_type": "code",
   "execution_count": 35,
   "metadata": {},
   "outputs": [
    {
     "data": {
      "image/png": "[encoded data removed]",
      "text/plain": [
       "<Figure size 936x720 with 6 Axes>"
      ]
     },
     "metadata": {
      "needs_background": "light"
     },
     "output_type": "display_data"
    }
   ],
   "source": [
    "fig, axs = plt.subplots(2,3)\n",
    "fig.suptitle(\"Tiempos de reduccion para cada espacio latente \\n\")\n",
    "fig.set_figheight(10)\n",
    "fig.set_figwidth(13)\n",
    "fig.tight_layout(pad=5.0)\n",
    "i = 0\n",
    "l = [5,15,25,50,75,100]\n",
    "for ax in axs:\n",
    "    for a in ax:\n",
    "        a.set_xlabel(\"Capas ocultas\")\n",
    "        a.set_ylabel(\"Tiempo\")\n",
    "        a.set_title(\"Dim. Latente: \" + str(l[i]))\n",
    "        a.bar(dfs[i][\"nHidden\"].astype(int).astype(str),height=dfs[i][\"t_red\"])\n",
    "        i = i + 1\n",
    "    "
   ]
  },
  {
   "cell_type": "code",
   "execution_count": 36,
   "metadata": {},
   "outputs": [
    {
     "data": {
      "text/plain": [
       "<AxesSubplot:title={'center':'Accuracy por espacio latente'}, xlabel='Dimension', ylabel='accuracy'>"
      ]
     },
     "execution_count": 36,
     "metadata": {},
     "output_type": "execute_result"
    },
    {
     "data": {
      "image/png": "[encoded data removed]",
      "text/plain": [
       "<Figure size 936x576 with 1 Axes>"
      ]
     },
     "metadata": {
      "needs_background": "light"
     },
     "output_type": "display_data"
    }
   ],
   "source": [
    "ticks = np.arange(0,1,0.05)\n",
    "formats = df_performances.pivot(\"latent_dim\",\"nHidden\",\"acc\")\n",
    "formats.plot(kind='bar',figsize=(13,8),xlabel=\"Dimension\", ylabel = \"accuracy\", yticks = ticks,ylim=(0,0.9), title=\"Accuracy por espacio latente\")\n"
   ]
  },
  {
   "cell_type": "code",
   "execution_count": 38,
   "metadata": {},
   "outputs": [
    {
     "data": {
      "text/plain": [
       "<AxesSubplot:title={'center':'Tiempo de clasificacion por espacio latente'}, xlabel='Dimension', ylabel='Tiempo (s)'>"
      ]
     },
     "execution_count": 38,
     "metadata": {},
     "output_type": "execute_result"
    },
    {
     "data": {
      "image/png": "[encoded data removed]",
      "text/plain": [
       "<Figure size 936x576 with 1 Axes>"
      ]
     },
     "metadata": {
      "needs_background": "light"
     },
     "output_type": "display_data"
    }
   ],
   "source": [
    "formats = df_performances.pivot(\"latent_dim\",\"nHidden\",\"t_classif\")\n",
    "formats.plot(kind='bar',figsize=(13,8),xlabel=\"Dimension\", ylabel = \"Tiempo (s)\",title=\"Tiempo de clasificacion por espacio latente\")\n"
   ]
  },
  {
   "cell_type": "markdown",
   "metadata": {},
   "source": [
    "### Observaciones\n"
   ]
  },
  {
   "cell_type": "markdown",
   "metadata": {},
   "source": [
    "# Nuevo experimento\n",
    "Misma dimension latente, misma profundidad, distintas dimensiones intermedias (ejemplo: [500,250,125,75,50,5,50,75,125,250,500] vs [100,50,25,15,10,5,10,15,25,50,100])  \n",
    "# agregar KNN SIN REDUCCION"
   ]
  },
  {
   "cell_type": "code",
   "execution_count": null,
   "metadata": {},
   "outputs": [],
   "source": []
  }
 ],
 "metadata": {
  "kernelspec": {
   "display_name": "Python 3 (ipykernel)",
   "language": "python",
   "name": "python3"
  },
  "language_info": {
   "codemirror_mode": {
    "name": "ipython",
    "version": 3
   },
   "file_extension": ".py",
   "mimetype": "text/x-python",
   "name": "python",
   "nbconvert_exporter": "python",
   "pygments_lexer": "ipython3",
   "version": "3.8.10"
  }
 },
 "nbformat": 4,
 "nbformat_minor": 4
}
