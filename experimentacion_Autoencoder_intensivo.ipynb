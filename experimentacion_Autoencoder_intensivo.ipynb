{
 "cells": [
  {
   "cell_type": "code",
   "execution_count": 2,
   "metadata": {
    "_cell_guid": "b1076dfc-b9ad-4769-8c92-a6c4dae69d19",
    "_uuid": "8f2839f25d086af736a60e9eeb907d3b93b6e0e5",
    "execution": {
     "iopub.execute_input": "2021-11-04T14:43:08.517426Z",
     "iopub.status.busy": "2021-11-04T14:43:08.517025Z",
     "iopub.status.idle": "2021-11-04T14:43:08.523006Z",
     "shell.execute_reply": "2021-11-04T14:43:08.522326Z",
     "shell.execute_reply.started": "2021-11-04T14:43:08.517391Z"
    }
   },
   "outputs": [],
   "source": [
    "# This Python 3 environment comes with many helpful analytics libraries installed\n",
    "# It is defined by the kaggle/python Docker image: https://github.com/kaggle/docker-python\n",
    "# For example, here's several helpful packages to load\n",
    "\n",
    "import numpy as np # linear algebra\n",
    "import pandas as pd # data processing, CSV file I/O (e.g. pd.read_csv)\n",
    "\n",
    "# Input data files are available in the read-only \"../input/\" directory\n",
    "# For example, running this (by clicking run or pressing Shift+Enter) will list all files under the input directory\n",
    "\n",
    "import os\n",
    "for dirname, _, filenames in os.walk('/kaggle/input'):\n",
    "    for filename in filenames:\n",
    "        print(os.path.join(dirname, filename))\n",
    "\n",
    "# You can write up to 20GB to the current directory (/kaggle/working/) that gets preserved as output when you create a version using \"Save & Run All\" \n",
    "# You can also write temporary files to /kaggle/temp/, but they won't be saved outside of the current session"
   ]
  },
  {
   "cell_type": "code",
   "execution_count": 6,
   "metadata": {
    "execution": {
     "iopub.execute_input": "2021-11-04T15:10:40.196574Z",
     "iopub.status.busy": "2021-11-04T15:10:40.196221Z",
     "iopub.status.idle": "2021-11-04T15:10:40.596392Z",
     "shell.execute_reply": "2021-11-04T15:10:40.595636Z",
     "shell.execute_reply.started": "2021-11-04T15:10:40.196529Z"
    }
   },
   "outputs": [],
   "source": [
    "from autoencoders import autoencoder\n",
    "import tensorflow as tf\n",
    "\n",
    "(x_train, y_train), (x_val, y_val) = tf.keras.datasets.fashion_mnist.load_data()\n",
    "\n",
    "\n",
    "modelDepths_100 = [[100], [392,100,392],[392,196,100,196,392]]\n",
    "\n",
    "modelDepths_75 = [[75],[588,75,588] ,[588,441,75,441,588],\n",
    "                  [588,441,330,250,75,250,330,441,588]]\n",
    "\n",
    "modelDepths_50 = [[50],[392,50,392] ,[392,196,50,196,392],[392,196,100,50,100,196,392]]\n",
    "\n",
    "modelDepths_25 = [[25],[392,25,392],[392,196,25,196,392],[392,196,100,50,25,50,100,196,392]]\n",
    "\n",
    "modelDepths_15 = [[15], [392,15,392], [392,196,15,196,392],[392,196,100,50,25,15,25,50,100,196,392]]\n",
    "\n",
    "modelDepths_5 = [[5], [200,5,200], [392,196,100,50,25,10,5,10,25,50,100,196,392]]\n"
   ]
  },
  {
   "cell_type": "code",
   "execution_count": 4,
   "metadata": {
    "execution": {
     "iopub.execute_input": "2021-11-04T14:43:16.700868Z",
     "iopub.status.busy": "2021-11-04T14:43:16.700284Z",
     "iopub.status.idle": "2021-11-04T14:43:16.706720Z",
     "shell.execute_reply": "2021-11-04T14:43:16.705888Z",
     "shell.execute_reply.started": "2021-11-04T14:43:16.700828Z"
    }
   },
   "outputs": [],
   "source": [
    "def multipleModels(seqDepths, X_train, X_val, y_train, y_val):\n",
    "  #given a sequence of autoencoder dephts, creates and trains the autoencoder and KNN the classifier\n",
    "  #returns a sequence with respective trained models\n",
    "  res = []\n",
    "  for arq in seqDepths:\n",
    "    res.append(autoencoder(arq, arq[int(len(arq)/2)], 'relu'))\n",
    "    res[-1].construct()\n",
    "    res[-1].trainAndReduce(X_train, X_val)\n",
    "    res[-1].diagnose(y_train,y_val,15)\n",
    "  \n",
    "  return res\n"
   ]
  },
  {
   "cell_type": "code",
   "execution_count": 5,
   "metadata": {
    "execution": {
     "iopub.execute_input": "2021-11-04T14:43:20.441142Z",
     "iopub.status.busy": "2021-11-04T14:43:20.440588Z",
     "iopub.status.idle": "2021-11-04T15:10:40.194726Z",
     "shell.execute_reply": "2021-11-04T15:10:40.193066Z",
     "shell.execute_reply.started": "2021-11-04T14:43:20.441104Z"
    }
   },
   "outputs": [],
   "source": [
    "models_100 = multipleModels(modelDepths_100, x_train,x_val,y_train, y_val)"
   ]
  },
  {
   "cell_type": "code",
   "execution_count": 7,
   "metadata": {
    "execution": {
     "iopub.execute_input": "2021-11-04T15:13:50.615616Z",
     "iopub.status.busy": "2021-11-04T15:13:50.615030Z",
     "iopub.status.idle": "2021-11-04T15:48:04.578812Z",
     "shell.execute_reply": "2021-11-04T15:48:04.578010Z",
     "shell.execute_reply.started": "2021-11-04T15:13:50.615574Z"
    }
   },
   "outputs": [],
   "source": [
    "models_75 = multipleModels(modelDepths_75, x_train,x_val,y_train,y_val)\n"
   ]
  },
  {
   "cell_type": "code",
   "execution_count": 8,
   "metadata": {
    "execution": {
     "iopub.execute_input": "2021-11-04T15:48:04.581101Z",
     "iopub.status.busy": "2021-11-04T15:48:04.580635Z",
     "iopub.status.idle": "2021-11-04T16:19:15.596653Z",
     "shell.execute_reply": "2021-11-04T16:19:15.595829Z",
     "shell.execute_reply.started": "2021-11-04T15:48:04.581059Z"
    }
   },
   "outputs": [],
   "source": [
    "models_50 = multipleModels(modelDepths_50, x_train,x_val,y_train,y_val)\n"
   ]
  },
  {
   "cell_type": "code",
   "execution_count": 9,
   "metadata": {
    "execution": {
     "iopub.execute_input": "2021-11-04T16:21:08.706130Z",
     "iopub.status.busy": "2021-11-04T16:21:08.705366Z",
     "iopub.status.idle": "2021-11-04T16:45:55.803779Z",
     "shell.execute_reply": "2021-11-04T16:45:55.801874Z",
     "shell.execute_reply.started": "2021-11-04T16:21:08.706080Z"
    }
   },
   "outputs": [],
   "source": [
    "models_25 = multipleModels(modelDepths_25, x_train,x_val,y_train,y_val)\n"
   ]
  },
  {
   "cell_type": "code",
   "execution_count": 10,
   "metadata": {
    "execution": {
     "iopub.execute_input": "2021-11-04T16:45:55.806971Z",
     "iopub.status.busy": "2021-11-04T16:45:55.806760Z",
     "iopub.status.idle": "2021-11-04T17:06:09.118961Z",
     "shell.execute_reply": "2021-11-04T17:06:09.118188Z",
     "shell.execute_reply.started": "2021-11-04T16:45:55.806945Z"
    }
   },
   "outputs": [],
   "source": [
    "models_15 = multipleModels(modelDepths_15, x_train,x_val,y_train,y_val)"
   ]
  },
  {
   "cell_type": "code",
   "execution_count": 11,
   "metadata": {
    "execution": {
     "iopub.execute_input": "2021-11-04T17:06:09.120807Z",
     "iopub.status.busy": "2021-11-04T17:06:09.120384Z",
     "iopub.status.idle": "2021-11-04T17:12:04.785985Z",
     "shell.execute_reply": "2021-11-04T17:12:04.785124Z",
     "shell.execute_reply.started": "2021-11-04T17:06:09.120769Z"
    }
   },
   "outputs": [],
   "source": [
    "models_5 = multipleModels(modelDepths_5, x_train,x_val,y_train,y_val)"
   ]
  },
  {
   "cell_type": "code",
   "execution_count": 12,
   "metadata": {
    "execution": {
     "iopub.execute_input": "2021-11-04T17:12:36.481421Z",
     "iopub.status.busy": "2021-11-04T17:12:36.481125Z",
     "iopub.status.idle": "2021-11-04T17:12:36.487112Z",
     "shell.execute_reply": "2021-11-04T17:12:36.484764Z",
     "shell.execute_reply.started": "2021-11-04T17:12:36.481389Z"
    }
   },
   "outputs": [],
   "source": [
    "all_models = [models_5,models_15,models_25, models_50, models_75, models_100]"
   ]
  },
  {
   "cell_type": "code",
   "execution_count": 29,
   "metadata": {
    "execution": {
     "iopub.execute_input": "2021-11-04T17:29:30.299350Z",
     "iopub.status.busy": "2021-11-04T17:29:30.299046Z",
     "iopub.status.idle": "2021-11-04T17:29:30.324199Z",
     "shell.execute_reply": "2021-11-04T17:29:30.323393Z",
     "shell.execute_reply.started": "2021-11-04T17:29:30.299298Z"
    }
   },
   "outputs": [],
   "source": [
    "#performance df con 1 columna por modelo\n",
    "\n",
    "model_depth = []\n",
    "latentDims = []\n",
    "model_classif_time = []\n",
    "model_red_time = []\n",
    "model_classif_acc = []\n",
    "model_loss = []\n",
    "for models in all_models:\n",
    "  for model in models:\n",
    "    model_depth.append(len(model.hDims))\n",
    "    latentDims.append(model.lDim)\n",
    "    model_classif_time.append(model.classifierTimePerformances[0])\n",
    "    model_red_time.append(model.reductionTimePerformance)\n",
    "    model_classif_acc.append(model.classifierAccuracyPerformances[0])\n",
    "df_performances = pd.DataFrame([model_depth,latentDims,\n",
    "model_classif_time,\n",
    "model_red_time,\n",
    "model_classif_acc]).T\n",
    "df_performances.columns=['# hidden', 'latent dim', 't_classif', 't_red','acc']\n",
    "print(df_performances)\n",
    "\n",
    "\n",
    "\n"
   ]
  },
  {
   "cell_type": "code",
   "execution_count": 31,
   "metadata": {
    "execution": {
     "iopub.execute_input": "2021-11-04T17:32:57.261052Z",
     "iopub.status.busy": "2021-11-04T17:32:57.260479Z",
     "iopub.status.idle": "2021-11-04T17:32:57.270478Z",
     "shell.execute_reply": "2021-11-04T17:32:57.269757Z",
     "shell.execute_reply.started": "2021-11-04T17:32:57.261012Z"
    }
   },
   "outputs": [],
   "source": [
    "df_performances.to_csv(\"performances.csv\")\n"
   ]
  },
  {
   "cell_type": "code",
   "execution_count": null,
   "metadata": {},
   "outputs": [],
   "source": []
  }
 ],
 "metadata": {
  "kernelspec": {
   "display_name": "Python 3 (ipykernel)",
   "language": "python",
   "name": "python3"
  },
  "language_info": {
   "codemirror_mode": {
    "name": "ipython",
    "version": 3
   },
   "file_extension": ".py",
   "mimetype": "text/x-python",
   "name": "python",
   "nbconvert_exporter": "python",
   "pygments_lexer": "ipython3",
   "version": "3.8.10"
  }
 },
 "nbformat": 4,
 "nbformat_minor": 4
}
