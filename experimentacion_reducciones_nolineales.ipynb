{
 "cells": [
  {
   "cell_type": "markdown",
   "id": "b3de2d52",
   "metadata": {},
   "source": [
    "# Metodos no lineales para reduccion de la dimensionalidad"
   ]
  },
  {
   "cell_type": "markdown",
   "id": "a9f53dba",
   "metadata": {},
   "source": [
    "En esta experimentacion nos proponemos experimentar con metodos alternativos de preprocesamiento de los datos para reducir su dimension. Consideraremos los siguientes metodos (EXPLICARLOS EN EL INFORME)"
   ]
  },
  {
   "cell_type": "markdown",
   "id": "4245f49b",
   "metadata": {},
   "source": [
    "-tsne sklearn.manifold: Manifold Learning? (explorar)\n",
    "-lda\n",
    "-autoencoders\n"
   ]
  },
  {
   "cell_type": "markdown",
   "id": "98d21614",
   "metadata": {},
   "source": [
    "Una de las hipotesis que obviamente tengo es que las relaciones entre pixeles y la clase no necesariamente es lineal (y lo mas probable es que no lo sea)"
   ]
  },
  {
   "cell_type": "markdown",
   "id": "cd5580e6",
   "metadata": {},
   "source": [
    "A PARTIR DE ACA NUESTRA REFERENCIA 'OPTIMA' COMO ALGORITMO DE PCA Y KNN VA A SER EL DE ALFA 15 Y K 15"
   ]
  },
  {
   "cell_type": "markdown",
   "id": "119d2504",
   "metadata": {},
   "source": [
    "A partir de ahora solo compararemos accuracy y tiempo de ejecucion (recordemos que el resto de las metricas eran practicamente iguales para este dataset)."
   ]
  },
  {
   "cell_type": "markdown",
   "id": "2b595d23",
   "metadata": {},
   "source": [
    "- Classify images with TPUs in [**Petals to the Metal**](https://www.kaggle.com/c/tpu-getting-started)\n",
    "- Create art with GANs in [**I'm Something of a Painter Myself**](https://www.kaggle.com/c/gan-getting-started)\n",
    "- Classify Tweets in [**Real or Not? NLP with Disaster Tweets**](https://www.kaggle.com/c/nlp-getting-started)\n",
    "- Detect contradiction and entailment in [**Contradictory, My Dear Watson**](https://www.kaggle.com/c/contradictory-my-dear-watson)"
   ]
  },
  {
   "cell_type": "code",
   "execution_count": null,
   "id": "67912bee",
   "metadata": {},
   "outputs": [],
   "source": []
  }
 ],
 "metadata": {
  "kernelspec": {
   "display_name": "Python 3 (ipykernel)",
   "language": "python",
   "name": "python3"
  },
  "language_info": {
   "codemirror_mode": {
    "name": "ipython",
    "version": 3
   },
   "file_extension": ".py",
   "mimetype": "text/x-python",
   "name": "python",
   "nbconvert_exporter": "python",
   "pygments_lexer": "ipython3",
   "version": "3.8.10"
  }
 },
 "nbformat": 4,
 "nbformat_minor": 5
}
