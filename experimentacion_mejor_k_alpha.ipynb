{
 "cells": [
  {
   "cell_type": "markdown",
   "id": "f3b86c6d",
   "metadata": {},
   "source": [
    "# Mejor combinaci\\'on $k, \\alpha$"
   ]
  },
  {
   "cell_type": "markdown",
   "id": "ed84dca1",
   "metadata": {},
   "source": [
    "En \\'esta seccion hallaremos la combinacion \\'optima de par\\'ametros $k$ y $\\alpha$ correspondientes a los algoritmos KNN y PCA respectivamente. Para ello creamos 2 scripts: classifiers.py y best_k_alpha.py, donde el primero se encarga de tomar el dataframe y dos instancias de los parametros y realiza un 'diagnostico' del rendimiento del modelo haciendo un split 80/20 de entrenamiento/"
   ]
  },
  {
   "cell_type": "code",
   "execution_count": 1,
   "id": "a51c9acf",
   "metadata": {},
   "outputs": [],
   "source": [
    "import pandas as pd"
   ]
  },
  {
   "cell_type": "code",
   "execution_count": 2,
   "id": "074f399d",
   "metadata": {},
   "outputs": [],
   "source": [
    "acc = pd.read_csv(\"./accuracy.csv\")"
   ]
  },
  {
   "cell_type": "code",
   "execution_count": 3,
   "id": "374be5e3",
   "metadata": {},
   "outputs": [
    {
     "data": {
      "text/html": [
       "<div>\n",
       "<style scoped>\n",
       "    .dataframe tbody tr th:only-of-type {\n",
       "        vertical-align: middle;\n",
       "    }\n",
       "\n",
       "    .dataframe tbody tr th {\n",
       "        vertical-align: top;\n",
       "    }\n",
       "\n",
       "    .dataframe thead th {\n",
       "        text-align: right;\n",
       "    }\n",
       "</style>\n",
       "<table border=\"1\" class=\"dataframe\">\n",
       "  <thead>\n",
       "    <tr style=\"text-align: right;\">\n",
       "      <th></th>\n",
       "      <th>Unnamed: 0</th>\n",
       "      <th>alpha = 1</th>\n",
       "      <th>alpha = 3</th>\n",
       "      <th>alpha = 5</th>\n",
       "      <th>alpha = 7</th>\n",
       "    </tr>\n",
       "  </thead>\n",
       "  <tbody>\n",
       "    <tr>\n",
       "      <th>0</th>\n",
       "      <td>0</td>\n",
       "      <td>0.220600</td>\n",
       "      <td>0.575200</td>\n",
       "      <td>0.695333</td>\n",
       "      <td>0.748467</td>\n",
       "    </tr>\n",
       "    <tr>\n",
       "      <th>1</th>\n",
       "      <td>1</td>\n",
       "      <td>0.227800</td>\n",
       "      <td>0.597600</td>\n",
       "      <td>0.721467</td>\n",
       "      <td>0.766800</td>\n",
       "    </tr>\n",
       "    <tr>\n",
       "      <th>2</th>\n",
       "      <td>2</td>\n",
       "      <td>0.242067</td>\n",
       "      <td>0.619867</td>\n",
       "      <td>0.742600</td>\n",
       "      <td>0.778800</td>\n",
       "    </tr>\n",
       "    <tr>\n",
       "      <th>3</th>\n",
       "      <td>3</td>\n",
       "      <td>0.250600</td>\n",
       "      <td>0.627533</td>\n",
       "      <td>0.749333</td>\n",
       "      <td>0.786733</td>\n",
       "    </tr>\n",
       "  </tbody>\n",
       "</table>\n",
       "</div>"
      ],
      "text/plain": [
       "   Unnamed: 0  alpha = 1  alpha = 3  alpha = 5  alpha = 7\n",
       "0           0   0.220600   0.575200   0.695333   0.748467\n",
       "1           1   0.227800   0.597600   0.721467   0.766800\n",
       "2           2   0.242067   0.619867   0.742600   0.778800\n",
       "3           3   0.250600   0.627533   0.749333   0.786733"
      ]
     },
     "execution_count": 3,
     "metadata": {},
     "output_type": "execute_result"
    }
   ],
   "source": [
    "acc"
   ]
  },
  {
   "cell_type": "code",
   "execution_count": null,
   "id": "e28621da",
   "metadata": {},
   "outputs": [],
   "source": []
  }
 ],
 "metadata": {
  "kernelspec": {
   "display_name": "Python 3 (ipykernel)",
   "language": "python",
   "name": "python3"
  },
  "language_info": {
   "codemirror_mode": {
    "name": "ipython",
    "version": 3
   },
   "file_extension": ".py",
   "mimetype": "text/x-python",
   "name": "python",
   "nbconvert_exporter": "python",
   "pygments_lexer": "ipython3",
   "version": "3.8.10"
  }
 },
 "nbformat": 4,
 "nbformat_minor": 5
}
