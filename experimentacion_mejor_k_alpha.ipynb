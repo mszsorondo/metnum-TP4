{
 "cells": [
  {
   "cell_type": "markdown",
   "id": "8e5dd506",
   "metadata": {},
   "source": [
    "# Mejor combinaci\\'on $k, \\alpha$"
   ]
  },
  {
   "cell_type": "markdown",
   "id": "19afe0a3",
   "metadata": {},
   "source": [
    "En \\'esta seccion hallaremos la combinacion \\'optima de par\\'ametros $k$ y $\\alpha$ correspondientes a los algoritmos KNN y PCA respectivamente. Para ello creamos 2 scripts: classifiers.py y best_k_alpha.py, donde el primero se encarga de tomar el dataframe y dos instancias de los parametros y realiza un 'diagnostico' del rendimiento del modelo haciendo un split 80/20 de entrenamiento y el segundo se encarga de probar con todas las combinaciones posibles para $k$ en [1,3,5,...,49] y $\\alpha$ en [1,3,5,...,49]. Se guardan los resultados para cada metrica en un CSV distinto (por ejemplo, en accuracy.csv se guarda un dataframe que muestra en la posicion $i,j$ el accuracy para $k=i$ y $\\alpha = j$)."
   ]
  },
  {
   "cell_type": "markdown",
   "id": "5968037f",
   "metadata": {},
   "source": [
    "## Resultados"
   ]
  },
  {
   "cell_type": "code",
   "execution_count": 15,
   "id": "0ea4c0e5",
   "metadata": {},
   "outputs": [],
   "source": [
    "import pandas as pd"
   ]
  },
  {
   "cell_type": "code",
   "execution_count": 16,
   "id": "4c3b35c6",
   "metadata": {},
   "outputs": [],
   "source": [
    "acc = pd.read_csv(\"./accuracy.csv\")"
   ]
  },
  {
   "cell_type": "code",
   "execution_count": 18,
   "id": "bfee67e8",
   "metadata": {},
   "outputs": [
    {
     "data": {
      "text/html": [
       "<div>\n",
       "<style scoped>\n",
       "    .dataframe tbody tr th:only-of-type {\n",
       "        vertical-align: middle;\n",
       "    }\n",
       "\n",
       "    .dataframe tbody tr th {\n",
       "        vertical-align: top;\n",
       "    }\n",
       "\n",
       "    .dataframe thead th {\n",
       "        text-align: right;\n",
       "    }\n",
       "</style>\n",
       "<table border=\"1\" class=\"dataframe\">\n",
       "  <thead>\n",
       "    <tr style=\"text-align: right;\">\n",
       "      <th></th>\n",
       "      <th>idx</th>\n",
       "      <th>alpha = 1</th>\n",
       "      <th>alpha = 3</th>\n",
       "      <th>alpha = 5</th>\n",
       "    </tr>\n",
       "  </thead>\n",
       "  <tbody>\n",
       "    <tr>\n",
       "      <th>0</th>\n",
       "      <td>k = 1</td>\n",
       "      <td>0.224267</td>\n",
       "      <td>0.570067</td>\n",
       "      <td>0.705533</td>\n",
       "    </tr>\n",
       "    <tr>\n",
       "      <th>1</th>\n",
       "      <td>k = 3</td>\n",
       "      <td>0.225267</td>\n",
       "      <td>0.604800</td>\n",
       "      <td>0.727467</td>\n",
       "    </tr>\n",
       "    <tr>\n",
       "      <th>2</th>\n",
       "      <td>k = 5</td>\n",
       "      <td>0.249267</td>\n",
       "      <td>0.625067</td>\n",
       "      <td>0.735200</td>\n",
       "    </tr>\n",
       "  </tbody>\n",
       "</table>\n",
       "</div>"
      ],
      "text/plain": [
       "     idx  alpha = 1  alpha = 3  alpha = 5\n",
       "0  k = 1   0.224267   0.570067   0.705533\n",
       "1  k = 3   0.225267   0.604800   0.727467\n",
       "2  k = 5   0.249267   0.625067   0.735200"
      ]
     },
     "execution_count": 18,
     "metadata": {},
     "output_type": "execute_result"
    }
   ],
   "source": [
    "acc"
   ]
  },
  {
   "cell_type": "markdown",
   "id": "9b53f90b",
   "metadata": {},
   "source": [
    "## Proximo experimento: Otras formas de reduccion de dimensionalidad y transformacion de los datos"
   ]
  },
  {
   "cell_type": "markdown",
   "id": "ae14e97e",
   "metadata": {},
   "source": [
    "Posibilidades:\n",
    "tsne - sklearn.manifold: Manifold Learning? (explorar)\n",
    "lda\n",
    "autoencoders\n",
    "embeddings\n"
   ]
  }
 ],
 "metadata": {
  "kernelspec": {
   "display_name": "Python 3 (ipykernel)",
   "language": "python",
   "name": "python3"
  },
  "language_info": {
   "codemirror_mode": {
    "name": "ipython",
    "version": 3
   },
   "file_extension": ".py",
   "mimetype": "text/x-python",
   "name": "python",
   "nbconvert_exporter": "python",
   "pygments_lexer": "ipython3",
   "version": "3.8.10"
  }
 },
 "nbformat": 4,
 "nbformat_minor": 5
}
