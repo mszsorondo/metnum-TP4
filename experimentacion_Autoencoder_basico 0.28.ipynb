{
  "nbformat": 4,
  "nbformat_minor": 0,
  "metadata": {
    "colab": {
      "name": "experimentacion_Autoencoder_basico.ipynb",
      "provenance": []
    },
    "kernelspec": {
      "name": "python3",
      "display_name": "Python 3"
    },
    "language_info": {
      "name": "python"
    },
    "accelerator": "TPU"
  },
  "cells": [
    {
      "cell_type": "code",
      "metadata": {
        "id": "8ZmMusYd8TSV"
      },
      "source": [
        "import numpy as np\n",
        "import pandas as pd\n",
        "import tensorflow as tf\n",
        "from tensorflow import keras\n",
        "from tensorflow.keras import layers\n"
      ],
      "execution_count": 1,
      "outputs": []
    },
    {
      "cell_type": "code",
      "metadata": {
        "colab": {
          "base_uri": "https://localhost:8080/"
        },
        "id": "i5NIY8VQ9Atg",
        "outputId": "3351e076-ca4f-4777-e95e-3eedd3baf272"
      },
      "source": [
        "(X_train, y_train), (X_val, y_val) = tf.keras.datasets.fashion_mnist.load_data()\n"
      ],
      "execution_count": 2,
      "outputs": [
        {
          "output_type": "stream",
          "name": "stdout",
          "text": [
            "Downloading data from https://storage.googleapis.com/tensorflow/tf-keras-datasets/train-labels-idx1-ubyte.gz\n",
            "32768/29515 [=================================] - 0s 0us/step\n",
            "40960/29515 [=========================================] - 0s 0us/step\n",
            "Downloading data from https://storage.googleapis.com/tensorflow/tf-keras-datasets/train-images-idx3-ubyte.gz\n",
            "26427392/26421880 [==============================] - 0s 0us/step\n",
            "26435584/26421880 [==============================] - 0s 0us/step\n",
            "Downloading data from https://storage.googleapis.com/tensorflow/tf-keras-datasets/t10k-labels-idx1-ubyte.gz\n",
            "16384/5148 [===============================================================================================] - 0s 0us/step\n",
            "Downloading data from https://storage.googleapis.com/tensorflow/tf-keras-datasets/t10k-images-idx3-ubyte.gz\n",
            "4423680/4422102 [==============================] - 0s 0us/step\n",
            "4431872/4422102 [==============================] - 0s 0us/step\n"
          ]
        }
      ]
    },
    {
      "cell_type": "code",
      "metadata": {
        "id": "mNajOtqc9lo8"
      },
      "source": [
        "\n",
        "encoding_dim = 32\n",
        "\n",
        "input_img = keras.Input(shape=(784,))\n",
        "encoded = layers.Dense(encoding_dim, activation='relu')(input_img)\n",
        "# \"decoded\" is the lossy reconstruction of the input\n",
        "decoded = layers.Dense(784, activation='sigmoid')(encoded)\n",
        "\n",
        "# This model maps an input to its reconstruction\n",
        "autoencoder = keras.Model(input_img, decoded)\n",
        "encoder = keras.Model(input_img, encoded)\n",
        "\n",
        "encoded_input = keras.Input(shape=(encoding_dim,))\n",
        "# Retrieve the last layer of the autoencoder model\n",
        "decoder_layer = (autoencoder.layers[-1])(encoded_input)\n",
        "# Create the decoder model\n",
        "decoder = keras.Model(encoded_input, decoder_layer)\n",
        "\n"
      ],
      "execution_count": 3,
      "outputs": []
    },
    {
      "cell_type": "code",
      "metadata": {
        "colab": {
          "base_uri": "https://localhost:8080/"
        },
        "id": "ezni1Tq69pEG",
        "outputId": "5ea6d4fd-78bd-49d9-eb4d-44adfb977b37"
      },
      "source": [
        "\n",
        "\n",
        "autoencoder.compile(optimizer='adam', loss='binary_crossentropy')\n",
        "\n",
        "X_train = (X_train.astype('float32') / 255.)\n",
        "X_val = (X_val.astype('float32') / 255.)\n",
        "X_train = X_train.reshape((len(X_train), np.prod(X_train.shape[1:])))\n",
        "X_val = X_val.reshape((len(X_val), np.prod(X_val.shape[1:])))\n",
        "print(X_train.shape)\n",
        "print(X_val.shape)\n",
        "\n"
      ],
      "execution_count": 4,
      "outputs": [
        {
          "output_type": "stream",
          "name": "stdout",
          "text": [
            "(60000, 784)\n",
            "(10000, 784)\n"
          ]
        }
      ]
    },
    {
      "cell_type": "code",
      "metadata": {
        "colab": {
          "base_uri": "https://localhost:8080/"
        },
        "id": "g30YPp77-EjX",
        "outputId": "dd3d034d-e235-4313-848b-ca3662ad7303"
      },
      "source": [
        "autoencoder.fit(X_train, X_train,\n",
        "                epochs=50,\n",
        "                batch_size=256,\n",
        "                shuffle=True,\n",
        "                validation_data=(X_val, X_val))"
      ],
      "execution_count": 5,
      "outputs": [
        {
          "output_type": "stream",
          "name": "stdout",
          "text": [
            "Epoch 1/50\n",
            "235/235 [==============================] - 4s 12ms/step - loss: 0.4154 - val_loss: 0.3436\n",
            "Epoch 2/50\n",
            "235/235 [==============================] - 3s 12ms/step - loss: 0.3270 - val_loss: 0.3187\n",
            "Epoch 3/50\n",
            "235/235 [==============================] - 3s 12ms/step - loss: 0.3101 - val_loss: 0.3061\n",
            "Epoch 4/50\n",
            "235/235 [==============================] - 3s 12ms/step - loss: 0.3001 - val_loss: 0.2989\n",
            "Epoch 5/50\n",
            "235/235 [==============================] - 3s 12ms/step - loss: 0.2944 - val_loss: 0.2945\n",
            "Epoch 6/50\n",
            "235/235 [==============================] - 3s 12ms/step - loss: 0.2909 - val_loss: 0.2917\n",
            "Epoch 7/50\n",
            "235/235 [==============================] - 3s 12ms/step - loss: 0.2885 - val_loss: 0.2899\n",
            "Epoch 8/50\n",
            "235/235 [==============================] - 3s 12ms/step - loss: 0.2870 - val_loss: 0.2890\n",
            "Epoch 9/50\n",
            "235/235 [==============================] - 3s 12ms/step - loss: 0.2860 - val_loss: 0.2879\n",
            "Epoch 10/50\n",
            "235/235 [==============================] - 3s 12ms/step - loss: 0.2853 - val_loss: 0.2873\n",
            "Epoch 11/50\n",
            "235/235 [==============================] - 3s 12ms/step - loss: 0.2848 - val_loss: 0.2869\n",
            "Epoch 12/50\n",
            "235/235 [==============================] - 3s 12ms/step - loss: 0.2844 - val_loss: 0.2866\n",
            "Epoch 13/50\n",
            "235/235 [==============================] - 3s 11ms/step - loss: 0.2841 - val_loss: 0.2863\n",
            "Epoch 14/50\n",
            "235/235 [==============================] - 3s 12ms/step - loss: 0.2838 - val_loss: 0.2860\n",
            "Epoch 15/50\n",
            "235/235 [==============================] - 3s 12ms/step - loss: 0.2836 - val_loss: 0.2859\n",
            "Epoch 16/50\n",
            "235/235 [==============================] - 3s 12ms/step - loss: 0.2834 - val_loss: 0.2856\n",
            "Epoch 17/50\n",
            "235/235 [==============================] - 3s 12ms/step - loss: 0.2832 - val_loss: 0.2855\n",
            "Epoch 18/50\n",
            "235/235 [==============================] - 3s 12ms/step - loss: 0.2831 - val_loss: 0.2857\n",
            "Epoch 19/50\n",
            "235/235 [==============================] - 3s 12ms/step - loss: 0.2829 - val_loss: 0.2852\n",
            "Epoch 20/50\n",
            "235/235 [==============================] - 3s 12ms/step - loss: 0.2828 - val_loss: 0.2851\n",
            "Epoch 21/50\n",
            "235/235 [==============================] - 3s 12ms/step - loss: 0.2827 - val_loss: 0.2850\n",
            "Epoch 22/50\n",
            "235/235 [==============================] - 3s 12ms/step - loss: 0.2826 - val_loss: 0.2849\n",
            "Epoch 23/50\n",
            "235/235 [==============================] - 3s 12ms/step - loss: 0.2825 - val_loss: 0.2848\n",
            "Epoch 24/50\n",
            "235/235 [==============================] - 3s 11ms/step - loss: 0.2824 - val_loss: 0.2850\n",
            "Epoch 25/50\n",
            "235/235 [==============================] - 3s 12ms/step - loss: 0.2823 - val_loss: 0.2846\n",
            "Epoch 26/50\n",
            "235/235 [==============================] - 3s 12ms/step - loss: 0.2823 - val_loss: 0.2846\n",
            "Epoch 27/50\n",
            "235/235 [==============================] - 3s 12ms/step - loss: 0.2822 - val_loss: 0.2846\n",
            "Epoch 28/50\n",
            "235/235 [==============================] - 3s 11ms/step - loss: 0.2821 - val_loss: 0.2845\n",
            "Epoch 29/50\n",
            "235/235 [==============================] - 3s 12ms/step - loss: 0.2821 - val_loss: 0.2844\n",
            "Epoch 30/50\n",
            "235/235 [==============================] - 3s 12ms/step - loss: 0.2820 - val_loss: 0.2844\n",
            "Epoch 31/50\n",
            "235/235 [==============================] - 3s 12ms/step - loss: 0.2820 - val_loss: 0.2843\n",
            "Epoch 32/50\n",
            "235/235 [==============================] - 3s 12ms/step - loss: 0.2819 - val_loss: 0.2842\n",
            "Epoch 33/50\n",
            "235/235 [==============================] - 3s 12ms/step - loss: 0.2819 - val_loss: 0.2843\n",
            "Epoch 34/50\n",
            "235/235 [==============================] - 3s 12ms/step - loss: 0.2818 - val_loss: 0.2842\n",
            "Epoch 35/50\n",
            "235/235 [==============================] - 3s 12ms/step - loss: 0.2818 - val_loss: 0.2841\n",
            "Epoch 36/50\n",
            "235/235 [==============================] - 3s 12ms/step - loss: 0.2817 - val_loss: 0.2841\n",
            "Epoch 37/50\n",
            "235/235 [==============================] - 3s 12ms/step - loss: 0.2817 - val_loss: 0.2841\n",
            "Epoch 38/50\n",
            "235/235 [==============================] - 3s 12ms/step - loss: 0.2817 - val_loss: 0.2841\n",
            "Epoch 39/50\n",
            "235/235 [==============================] - 3s 12ms/step - loss: 0.2816 - val_loss: 0.2840\n",
            "Epoch 40/50\n",
            "235/235 [==============================] - 3s 12ms/step - loss: 0.2816 - val_loss: 0.2840\n",
            "Epoch 41/50\n",
            "235/235 [==============================] - 3s 12ms/step - loss: 0.2816 - val_loss: 0.2840\n",
            "Epoch 42/50\n",
            "235/235 [==============================] - 3s 12ms/step - loss: 0.2816 - val_loss: 0.2839\n",
            "Epoch 43/50\n",
            "235/235 [==============================] - 3s 12ms/step - loss: 0.2815 - val_loss: 0.2839\n",
            "Epoch 44/50\n",
            "235/235 [==============================] - 3s 12ms/step - loss: 0.2815 - val_loss: 0.2839\n",
            "Epoch 45/50\n",
            "235/235 [==============================] - 3s 12ms/step - loss: 0.2815 - val_loss: 0.2839\n",
            "Epoch 46/50\n",
            "235/235 [==============================] - 3s 12ms/step - loss: 0.2815 - val_loss: 0.2838\n",
            "Epoch 47/50\n",
            "235/235 [==============================] - 3s 12ms/step - loss: 0.2814 - val_loss: 0.2838\n",
            "Epoch 48/50\n",
            "235/235 [==============================] - 3s 12ms/step - loss: 0.2814 - val_loss: 0.2838\n",
            "Epoch 49/50\n",
            "235/235 [==============================] - 3s 12ms/step - loss: 0.2814 - val_loss: 0.2839\n",
            "Epoch 50/50\n",
            "235/235 [==============================] - 3s 12ms/step - loss: 0.2814 - val_loss: 0.2838\n"
          ]
        },
        {
          "output_type": "execute_result",
          "data": {
            "text/plain": [
              "<keras.callbacks.History at 0x7f0ea8f801d0>"
            ]
          },
          "metadata": {},
          "execution_count": 5
        }
      ]
    },
    {
      "cell_type": "code",
      "metadata": {
        "id": "dlzO0H-S-JvG"
      },
      "source": [
        ""
      ],
      "execution_count": 5,
      "outputs": []
    }
  ]
}