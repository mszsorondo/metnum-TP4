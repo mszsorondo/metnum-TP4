{
 "cells": [
  {
   "cell_type": "markdown",
   "id": "ec0f3afa",
   "metadata": {},
   "source": [
    "# Una primera prueba de KNN y PCA (10,10)"
   ]
  },
  {
   "cell_type": "code",
   "execution_count": 1,
   "id": "7b3343c6",
   "metadata": {},
   "outputs": [],
   "source": [
    "import numpy as np\n",
    "import pandas as pd\n",
    "from sklearn.decomposition import PCA\n",
    "from sklearn.neighbors import KNeighborsClassifier\n",
    "import time\n",
    "import seaborn as sns\n",
    "from sklearn.metrics import classification_report"
   ]
  },
  {
   "cell_type": "code",
   "execution_count": 2,
   "id": "a090ac0e",
   "metadata": {},
   "outputs": [],
   "source": [
    "df = pd.read_csv(\"./data/fashion-mnist_train.csv\")"
   ]
  },
  {
   "cell_type": "code",
   "execution_count": 3,
   "id": "c62f1411",
   "metadata": {},
   "outputs": [],
   "source": [
    "df_val = pd.read_csv(\"./data/fashion-mnist_test.csv\")\n",
    "y_val = df_val[\"label\"]\n",
    "X = df.iloc[:,1:]\n",
    "y = df[\"label\"]"
   ]
  },
  {
   "cell_type": "code",
   "execution_count": 4,
   "id": "527ba80c",
   "metadata": {},
   "outputs": [
    {
     "data": {
      "text/html": [
       "<div>\n",
       "<style scoped>\n",
       "    .dataframe tbody tr th:only-of-type {\n",
       "        vertical-align: middle;\n",
       "    }\n",
       "\n",
       "    .dataframe tbody tr th {\n",
       "        vertical-align: top;\n",
       "    }\n",
       "\n",
       "    .dataframe thead th {\n",
       "        text-align: right;\n",
       "    }\n",
       "</style>\n",
       "<table border=\"1\" class=\"dataframe\">\n",
       "  <thead>\n",
       "    <tr style=\"text-align: right;\">\n",
       "      <th></th>\n",
       "      <th>pixel1</th>\n",
       "      <th>pixel2</th>\n",
       "      <th>pixel3</th>\n",
       "      <th>pixel4</th>\n",
       "      <th>pixel5</th>\n",
       "      <th>pixel6</th>\n",
       "      <th>pixel7</th>\n",
       "      <th>pixel8</th>\n",
       "      <th>pixel9</th>\n",
       "      <th>pixel10</th>\n",
       "      <th>...</th>\n",
       "      <th>pixel775</th>\n",
       "      <th>pixel776</th>\n",
       "      <th>pixel777</th>\n",
       "      <th>pixel778</th>\n",
       "      <th>pixel779</th>\n",
       "      <th>pixel780</th>\n",
       "      <th>pixel781</th>\n",
       "      <th>pixel782</th>\n",
       "      <th>pixel783</th>\n",
       "      <th>pixel784</th>\n",
       "    </tr>\n",
       "  </thead>\n",
       "  <tbody>\n",
       "    <tr>\n",
       "      <th>0</th>\n",
       "      <td>0</td>\n",
       "      <td>0</td>\n",
       "      <td>0</td>\n",
       "      <td>0</td>\n",
       "      <td>0</td>\n",
       "      <td>0</td>\n",
       "      <td>0</td>\n",
       "      <td>0</td>\n",
       "      <td>0</td>\n",
       "      <td>0</td>\n",
       "      <td>...</td>\n",
       "      <td>0</td>\n",
       "      <td>0</td>\n",
       "      <td>0</td>\n",
       "      <td>0</td>\n",
       "      <td>0</td>\n",
       "      <td>0</td>\n",
       "      <td>0</td>\n",
       "      <td>0</td>\n",
       "      <td>0</td>\n",
       "      <td>0</td>\n",
       "    </tr>\n",
       "    <tr>\n",
       "      <th>1</th>\n",
       "      <td>0</td>\n",
       "      <td>0</td>\n",
       "      <td>0</td>\n",
       "      <td>0</td>\n",
       "      <td>0</td>\n",
       "      <td>0</td>\n",
       "      <td>0</td>\n",
       "      <td>0</td>\n",
       "      <td>0</td>\n",
       "      <td>0</td>\n",
       "      <td>...</td>\n",
       "      <td>0</td>\n",
       "      <td>0</td>\n",
       "      <td>0</td>\n",
       "      <td>0</td>\n",
       "      <td>0</td>\n",
       "      <td>0</td>\n",
       "      <td>0</td>\n",
       "      <td>0</td>\n",
       "      <td>0</td>\n",
       "      <td>0</td>\n",
       "    </tr>\n",
       "    <tr>\n",
       "      <th>2</th>\n",
       "      <td>0</td>\n",
       "      <td>0</td>\n",
       "      <td>0</td>\n",
       "      <td>0</td>\n",
       "      <td>0</td>\n",
       "      <td>0</td>\n",
       "      <td>0</td>\n",
       "      <td>5</td>\n",
       "      <td>0</td>\n",
       "      <td>0</td>\n",
       "      <td>...</td>\n",
       "      <td>0</td>\n",
       "      <td>0</td>\n",
       "      <td>0</td>\n",
       "      <td>30</td>\n",
       "      <td>43</td>\n",
       "      <td>0</td>\n",
       "      <td>0</td>\n",
       "      <td>0</td>\n",
       "      <td>0</td>\n",
       "      <td>0</td>\n",
       "    </tr>\n",
       "    <tr>\n",
       "      <th>3</th>\n",
       "      <td>0</td>\n",
       "      <td>0</td>\n",
       "      <td>0</td>\n",
       "      <td>1</td>\n",
       "      <td>2</td>\n",
       "      <td>0</td>\n",
       "      <td>0</td>\n",
       "      <td>0</td>\n",
       "      <td>0</td>\n",
       "      <td>0</td>\n",
       "      <td>...</td>\n",
       "      <td>3</td>\n",
       "      <td>0</td>\n",
       "      <td>0</td>\n",
       "      <td>0</td>\n",
       "      <td>0</td>\n",
       "      <td>1</td>\n",
       "      <td>0</td>\n",
       "      <td>0</td>\n",
       "      <td>0</td>\n",
       "      <td>0</td>\n",
       "    </tr>\n",
       "    <tr>\n",
       "      <th>4</th>\n",
       "      <td>0</td>\n",
       "      <td>0</td>\n",
       "      <td>0</td>\n",
       "      <td>0</td>\n",
       "      <td>0</td>\n",
       "      <td>0</td>\n",
       "      <td>0</td>\n",
       "      <td>0</td>\n",
       "      <td>0</td>\n",
       "      <td>0</td>\n",
       "      <td>...</td>\n",
       "      <td>0</td>\n",
       "      <td>0</td>\n",
       "      <td>0</td>\n",
       "      <td>0</td>\n",
       "      <td>0</td>\n",
       "      <td>0</td>\n",
       "      <td>0</td>\n",
       "      <td>0</td>\n",
       "      <td>0</td>\n",
       "      <td>0</td>\n",
       "    </tr>\n",
       "    <tr>\n",
       "      <th>...</th>\n",
       "      <td>...</td>\n",
       "      <td>...</td>\n",
       "      <td>...</td>\n",
       "      <td>...</td>\n",
       "      <td>...</td>\n",
       "      <td>...</td>\n",
       "      <td>...</td>\n",
       "      <td>...</td>\n",
       "      <td>...</td>\n",
       "      <td>...</td>\n",
       "      <td>...</td>\n",
       "      <td>...</td>\n",
       "      <td>...</td>\n",
       "      <td>...</td>\n",
       "      <td>...</td>\n",
       "      <td>...</td>\n",
       "      <td>...</td>\n",
       "      <td>...</td>\n",
       "      <td>...</td>\n",
       "      <td>...</td>\n",
       "      <td>...</td>\n",
       "    </tr>\n",
       "    <tr>\n",
       "      <th>59995</th>\n",
       "      <td>0</td>\n",
       "      <td>0</td>\n",
       "      <td>0</td>\n",
       "      <td>0</td>\n",
       "      <td>0</td>\n",
       "      <td>0</td>\n",
       "      <td>0</td>\n",
       "      <td>0</td>\n",
       "      <td>0</td>\n",
       "      <td>0</td>\n",
       "      <td>...</td>\n",
       "      <td>0</td>\n",
       "      <td>0</td>\n",
       "      <td>0</td>\n",
       "      <td>0</td>\n",
       "      <td>0</td>\n",
       "      <td>0</td>\n",
       "      <td>0</td>\n",
       "      <td>0</td>\n",
       "      <td>0</td>\n",
       "      <td>0</td>\n",
       "    </tr>\n",
       "    <tr>\n",
       "      <th>59996</th>\n",
       "      <td>0</td>\n",
       "      <td>0</td>\n",
       "      <td>0</td>\n",
       "      <td>0</td>\n",
       "      <td>0</td>\n",
       "      <td>0</td>\n",
       "      <td>0</td>\n",
       "      <td>0</td>\n",
       "      <td>0</td>\n",
       "      <td>0</td>\n",
       "      <td>...</td>\n",
       "      <td>73</td>\n",
       "      <td>0</td>\n",
       "      <td>0</td>\n",
       "      <td>0</td>\n",
       "      <td>0</td>\n",
       "      <td>0</td>\n",
       "      <td>0</td>\n",
       "      <td>0</td>\n",
       "      <td>0</td>\n",
       "      <td>0</td>\n",
       "    </tr>\n",
       "    <tr>\n",
       "      <th>59997</th>\n",
       "      <td>0</td>\n",
       "      <td>0</td>\n",
       "      <td>0</td>\n",
       "      <td>0</td>\n",
       "      <td>0</td>\n",
       "      <td>0</td>\n",
       "      <td>0</td>\n",
       "      <td>0</td>\n",
       "      <td>0</td>\n",
       "      <td>0</td>\n",
       "      <td>...</td>\n",
       "      <td>160</td>\n",
       "      <td>162</td>\n",
       "      <td>163</td>\n",
       "      <td>135</td>\n",
       "      <td>94</td>\n",
       "      <td>0</td>\n",
       "      <td>0</td>\n",
       "      <td>0</td>\n",
       "      <td>0</td>\n",
       "      <td>0</td>\n",
       "    </tr>\n",
       "    <tr>\n",
       "      <th>59998</th>\n",
       "      <td>0</td>\n",
       "      <td>0</td>\n",
       "      <td>0</td>\n",
       "      <td>0</td>\n",
       "      <td>0</td>\n",
       "      <td>0</td>\n",
       "      <td>0</td>\n",
       "      <td>0</td>\n",
       "      <td>0</td>\n",
       "      <td>0</td>\n",
       "      <td>...</td>\n",
       "      <td>0</td>\n",
       "      <td>0</td>\n",
       "      <td>0</td>\n",
       "      <td>0</td>\n",
       "      <td>0</td>\n",
       "      <td>0</td>\n",
       "      <td>0</td>\n",
       "      <td>0</td>\n",
       "      <td>0</td>\n",
       "      <td>0</td>\n",
       "    </tr>\n",
       "    <tr>\n",
       "      <th>59999</th>\n",
       "      <td>0</td>\n",
       "      <td>0</td>\n",
       "      <td>0</td>\n",
       "      <td>0</td>\n",
       "      <td>0</td>\n",
       "      <td>0</td>\n",
       "      <td>0</td>\n",
       "      <td>0</td>\n",
       "      <td>0</td>\n",
       "      <td>0</td>\n",
       "      <td>...</td>\n",
       "      <td>0</td>\n",
       "      <td>0</td>\n",
       "      <td>0</td>\n",
       "      <td>0</td>\n",
       "      <td>0</td>\n",
       "      <td>0</td>\n",
       "      <td>0</td>\n",
       "      <td>0</td>\n",
       "      <td>0</td>\n",
       "      <td>0</td>\n",
       "    </tr>\n",
       "  </tbody>\n",
       "</table>\n",
       "<p>60000 rows × 784 columns</p>\n",
       "</div>"
      ],
      "text/plain": [
       "       pixel1  pixel2  pixel3  pixel4  pixel5  pixel6  pixel7  pixel8  pixel9  \\\n",
       "0           0       0       0       0       0       0       0       0       0   \n",
       "1           0       0       0       0       0       0       0       0       0   \n",
       "2           0       0       0       0       0       0       0       5       0   \n",
       "3           0       0       0       1       2       0       0       0       0   \n",
       "4           0       0       0       0       0       0       0       0       0   \n",
       "...       ...     ...     ...     ...     ...     ...     ...     ...     ...   \n",
       "59995       0       0       0       0       0       0       0       0       0   \n",
       "59996       0       0       0       0       0       0       0       0       0   \n",
       "59997       0       0       0       0       0       0       0       0       0   \n",
       "59998       0       0       0       0       0       0       0       0       0   \n",
       "59999       0       0       0       0       0       0       0       0       0   \n",
       "\n",
       "       pixel10  ...  pixel775  pixel776  pixel777  pixel778  pixel779  \\\n",
       "0            0  ...         0         0         0         0         0   \n",
       "1            0  ...         0         0         0         0         0   \n",
       "2            0  ...         0         0         0        30        43   \n",
       "3            0  ...         3         0         0         0         0   \n",
       "4            0  ...         0         0         0         0         0   \n",
       "...        ...  ...       ...       ...       ...       ...       ...   \n",
       "59995        0  ...         0         0         0         0         0   \n",
       "59996        0  ...        73         0         0         0         0   \n",
       "59997        0  ...       160       162       163       135        94   \n",
       "59998        0  ...         0         0         0         0         0   \n",
       "59999        0  ...         0         0         0         0         0   \n",
       "\n",
       "       pixel780  pixel781  pixel782  pixel783  pixel784  \n",
       "0             0         0         0         0         0  \n",
       "1             0         0         0         0         0  \n",
       "2             0         0         0         0         0  \n",
       "3             1         0         0         0         0  \n",
       "4             0         0         0         0         0  \n",
       "...         ...       ...       ...       ...       ...  \n",
       "59995         0         0         0         0         0  \n",
       "59996         0         0         0         0         0  \n",
       "59997         0         0         0         0         0  \n",
       "59998         0         0         0         0         0  \n",
       "59999         0         0         0         0         0  \n",
       "\n",
       "[60000 rows x 784 columns]"
      ]
     },
     "execution_count": 4,
     "metadata": {},
     "output_type": "execute_result"
    }
   ],
   "source": [
    "X"
   ]
  },
  {
   "cell_type": "code",
   "execution_count": 5,
   "id": "b8acd3c4",
   "metadata": {},
   "outputs": [
    {
     "data": {
      "text/plain": [
       "0        2\n",
       "1        9\n",
       "2        6\n",
       "3        0\n",
       "4        3\n",
       "        ..\n",
       "59995    9\n",
       "59996    1\n",
       "59997    8\n",
       "59998    8\n",
       "59999    7\n",
       "Name: label, Length: 60000, dtype: int64"
      ]
     },
     "execution_count": 5,
     "metadata": {},
     "output_type": "execute_result"
    }
   ],
   "source": [
    "y"
   ]
  },
  {
   "cell_type": "code",
   "execution_count": 6,
   "id": "e3b55d88",
   "metadata": {},
   "outputs": [
    {
     "name": "stdout",
     "output_type": "stream",
     "text": [
      "El tiempo de ejecucion fue de  47.81652360600128  segundos\n"
     ]
    }
   ],
   "source": [
    "from sklearn.model_selection import train_test_split\n",
    "from sklearn.metrics import accuracy_score,precision_score,recall_score\n",
    "X_train, X_test, y_train, y_test = train_test_split(X,y)\n",
    "model = KNeighborsClassifier(10)\n",
    "\n",
    "start = time.perf_counter()\n",
    "model.fit(X_train,y_train)\n",
    "model_results = model.predict(X_test)\n",
    "\n",
    "end = time.perf_counter()\n",
    "print(\"El tiempo de ejecucion fue de \", end-start, \" segundos\")"
   ]
  },
  {
   "cell_type": "code",
   "execution_count": 7,
   "id": "f1002050",
   "metadata": {},
   "outputs": [
    {
     "data": {
      "text/plain": [
       "0.8517333333333333"
      ]
     },
     "execution_count": 7,
     "metadata": {},
     "output_type": "execute_result"
    }
   ],
   "source": [
    "accuracy_score(model_results,y_test)"
   ]
  },
  {
   "cell_type": "code",
   "execution_count": 8,
   "id": "429de7d8",
   "metadata": {
    "scrolled": false
   },
   "outputs": [
    {
     "data": {
      "text/html": [
       "<div>\n",
       "<style scoped>\n",
       "    .dataframe tbody tr th:only-of-type {\n",
       "        vertical-align: middle;\n",
       "    }\n",
       "\n",
       "    .dataframe tbody tr th {\n",
       "        vertical-align: top;\n",
       "    }\n",
       "\n",
       "    .dataframe thead th {\n",
       "        text-align: right;\n",
       "    }\n",
       "</style>\n",
       "<table border=\"1\" class=\"dataframe\">\n",
       "  <thead>\n",
       "    <tr style=\"text-align: right;\">\n",
       "      <th></th>\n",
       "      <th>0</th>\n",
       "      <th>1</th>\n",
       "      <th>2</th>\n",
       "      <th>3</th>\n",
       "      <th>4</th>\n",
       "      <th>5</th>\n",
       "      <th>6</th>\n",
       "      <th>7</th>\n",
       "      <th>8</th>\n",
       "      <th>9</th>\n",
       "      <th>accuracy</th>\n",
       "      <th>macro avg</th>\n",
       "      <th>weighted avg</th>\n",
       "    </tr>\n",
       "  </thead>\n",
       "  <tbody>\n",
       "    <tr>\n",
       "      <th>precision</th>\n",
       "      <td>0.778726</td>\n",
       "      <td>0.986534</td>\n",
       "      <td>0.748459</td>\n",
       "      <td>0.900069</td>\n",
       "      <td>0.785288</td>\n",
       "      <td>0.991797</td>\n",
       "      <td>0.633813</td>\n",
       "      <td>0.862932</td>\n",
       "      <td>0.973233</td>\n",
       "      <td>0.887768</td>\n",
       "      <td>0.851733</td>\n",
       "      <td>0.854862</td>\n",
       "      <td>0.854839</td>\n",
       "    </tr>\n",
       "    <tr>\n",
       "      <th>recall</th>\n",
       "      <td>0.884367</td>\n",
       "      <td>0.952120</td>\n",
       "      <td>0.805574</td>\n",
       "      <td>0.869303</td>\n",
       "      <td>0.763039</td>\n",
       "      <td>0.802256</td>\n",
       "      <td>0.580153</td>\n",
       "      <td>0.953259</td>\n",
       "      <td>0.945964</td>\n",
       "      <td>0.956522</td>\n",
       "      <td>0.851733</td>\n",
       "      <td>0.851256</td>\n",
       "      <td>0.851733</td>\n",
       "    </tr>\n",
       "    <tr>\n",
       "      <th>f1-score</th>\n",
       "      <td>0.828191</td>\n",
       "      <td>0.969022</td>\n",
       "      <td>0.775967</td>\n",
       "      <td>0.884419</td>\n",
       "      <td>0.774004</td>\n",
       "      <td>0.887014</td>\n",
       "      <td>0.605797</td>\n",
       "      <td>0.905849</td>\n",
       "      <td>0.959405</td>\n",
       "      <td>0.920863</td>\n",
       "      <td>0.851733</td>\n",
       "      <td>0.851053</td>\n",
       "      <td>0.851269</td>\n",
       "    </tr>\n",
       "    <tr>\n",
       "      <th>support</th>\n",
       "      <td>1548.000000</td>\n",
       "      <td>1462.000000</td>\n",
       "      <td>1507.000000</td>\n",
       "      <td>1492.000000</td>\n",
       "      <td>1553.000000</td>\n",
       "      <td>1507.000000</td>\n",
       "      <td>1441.000000</td>\n",
       "      <td>1519.000000</td>\n",
       "      <td>1499.000000</td>\n",
       "      <td>1472.000000</td>\n",
       "      <td>0.851733</td>\n",
       "      <td>15000.000000</td>\n",
       "      <td>15000.000000</td>\n",
       "    </tr>\n",
       "  </tbody>\n",
       "</table>\n",
       "</div>"
      ],
      "text/plain": [
       "                     0            1            2            3            4  \\\n",
       "precision     0.778726     0.986534     0.748459     0.900069     0.785288   \n",
       "recall        0.884367     0.952120     0.805574     0.869303     0.763039   \n",
       "f1-score      0.828191     0.969022     0.775967     0.884419     0.774004   \n",
       "support    1548.000000  1462.000000  1507.000000  1492.000000  1553.000000   \n",
       "\n",
       "                     5            6            7            8            9  \\\n",
       "precision     0.991797     0.633813     0.862932     0.973233     0.887768   \n",
       "recall        0.802256     0.580153     0.953259     0.945964     0.956522   \n",
       "f1-score      0.887014     0.605797     0.905849     0.959405     0.920863   \n",
       "support    1507.000000  1441.000000  1519.000000  1499.000000  1472.000000   \n",
       "\n",
       "           accuracy     macro avg  weighted avg  \n",
       "precision  0.851733      0.854862      0.854839  \n",
       "recall     0.851733      0.851256      0.851733  \n",
       "f1-score   0.851733      0.851053      0.851269  \n",
       "support    0.851733  15000.000000  15000.000000  "
      ]
     },
     "execution_count": 8,
     "metadata": {},
     "output_type": "execute_result"
    }
   ],
   "source": [
    "from sklearn.metrics import classification_report\n",
    "\n",
    "pd.DataFrame(classification_report(y_test,model_results, output_dict=True))"
   ]
  },
  {
   "cell_type": "markdown",
   "id": "2c1ec793",
   "metadata": {},
   "source": [
    "## (1) Uso de PCA"
   ]
  },
  {
   "cell_type": "code",
   "execution_count": 9,
   "id": "6ae41289",
   "metadata": {},
   "outputs": [
    {
     "name": "stdout",
     "output_type": "stream",
     "text": [
      "El tiempo de ejecucion de PCA fue de  0.3981879460006894  segundos\n"
     ]
    }
   ],
   "source": [
    "PCA_mod = PCA(10)\n",
    "PCA_mod.fit(X_train)\n",
    "start = time.perf_counter()\n",
    "X_train_PCA = PCA_mod.transform(X_train)\n",
    "X_test_PCA = PCA_mod.transform(X_test)\n",
    "end = time.perf_counter()\n",
    "print(\"El tiempo de ejecucion de PCA fue de \", end-start, \" segundos\")"
   ]
  },
  {
   "cell_type": "code",
   "execution_count": 10,
   "id": "b4759786",
   "metadata": {},
   "outputs": [
    {
     "data": {
      "text/html": [
       "<div>\n",
       "<style scoped>\n",
       "    .dataframe tbody tr th:only-of-type {\n",
       "        vertical-align: middle;\n",
       "    }\n",
       "\n",
       "    .dataframe tbody tr th {\n",
       "        vertical-align: top;\n",
       "    }\n",
       "\n",
       "    .dataframe thead th {\n",
       "        text-align: right;\n",
       "    }\n",
       "</style>\n",
       "<table border=\"1\" class=\"dataframe\">\n",
       "  <thead>\n",
       "    <tr style=\"text-align: right;\">\n",
       "      <th></th>\n",
       "      <th>0</th>\n",
       "      <th>1</th>\n",
       "      <th>2</th>\n",
       "      <th>3</th>\n",
       "      <th>4</th>\n",
       "      <th>5</th>\n",
       "      <th>6</th>\n",
       "      <th>7</th>\n",
       "      <th>8</th>\n",
       "      <th>9</th>\n",
       "      <th>accuracy</th>\n",
       "      <th>macro avg</th>\n",
       "      <th>weighted avg</th>\n",
       "    </tr>\n",
       "  </thead>\n",
       "  <tbody>\n",
       "    <tr>\n",
       "      <th>precision</th>\n",
       "      <td>0.774925</td>\n",
       "      <td>0.968220</td>\n",
       "      <td>0.679605</td>\n",
       "      <td>0.828217</td>\n",
       "      <td>0.709163</td>\n",
       "      <td>0.912561</td>\n",
       "      <td>0.572605</td>\n",
       "      <td>0.872599</td>\n",
       "      <td>0.942933</td>\n",
       "      <td>0.895750</td>\n",
       "      <td>0.816733</td>\n",
       "      <td>0.815658</td>\n",
       "      <td>0.815610</td>\n",
       "    </tr>\n",
       "    <tr>\n",
       "      <th>recall</th>\n",
       "      <td>0.838501</td>\n",
       "      <td>0.937756</td>\n",
       "      <td>0.685468</td>\n",
       "      <td>0.849866</td>\n",
       "      <td>0.687701</td>\n",
       "      <td>0.872595</td>\n",
       "      <td>0.530881</td>\n",
       "      <td>0.897301</td>\n",
       "      <td>0.947965</td>\n",
       "      <td>0.916440</td>\n",
       "      <td>0.816733</td>\n",
       "      <td>0.816448</td>\n",
       "      <td>0.816733</td>\n",
       "    </tr>\n",
       "    <tr>\n",
       "      <th>f1-score</th>\n",
       "      <td>0.805461</td>\n",
       "      <td>0.952745</td>\n",
       "      <td>0.682524</td>\n",
       "      <td>0.838902</td>\n",
       "      <td>0.698267</td>\n",
       "      <td>0.892130</td>\n",
       "      <td>0.550954</td>\n",
       "      <td>0.884778</td>\n",
       "      <td>0.945442</td>\n",
       "      <td>0.905977</td>\n",
       "      <td>0.816733</td>\n",
       "      <td>0.815718</td>\n",
       "      <td>0.815836</td>\n",
       "    </tr>\n",
       "    <tr>\n",
       "      <th>support</th>\n",
       "      <td>1548.000000</td>\n",
       "      <td>1462.000000</td>\n",
       "      <td>1507.000000</td>\n",
       "      <td>1492.000000</td>\n",
       "      <td>1553.000000</td>\n",
       "      <td>1507.000000</td>\n",
       "      <td>1441.000000</td>\n",
       "      <td>1519.000000</td>\n",
       "      <td>1499.000000</td>\n",
       "      <td>1472.000000</td>\n",
       "      <td>0.816733</td>\n",
       "      <td>15000.000000</td>\n",
       "      <td>15000.000000</td>\n",
       "    </tr>\n",
       "  </tbody>\n",
       "</table>\n",
       "</div>"
      ],
      "text/plain": [
       "                     0            1            2            3            4  \\\n",
       "precision     0.774925     0.968220     0.679605     0.828217     0.709163   \n",
       "recall        0.838501     0.937756     0.685468     0.849866     0.687701   \n",
       "f1-score      0.805461     0.952745     0.682524     0.838902     0.698267   \n",
       "support    1548.000000  1462.000000  1507.000000  1492.000000  1553.000000   \n",
       "\n",
       "                     5            6            7            8            9  \\\n",
       "precision     0.912561     0.572605     0.872599     0.942933     0.895750   \n",
       "recall        0.872595     0.530881     0.897301     0.947965     0.916440   \n",
       "f1-score      0.892130     0.550954     0.884778     0.945442     0.905977   \n",
       "support    1507.000000  1441.000000  1519.000000  1499.000000  1472.000000   \n",
       "\n",
       "           accuracy     macro avg  weighted avg  \n",
       "precision  0.816733      0.815658      0.815610  \n",
       "recall     0.816733      0.816448      0.816733  \n",
       "f1-score   0.816733      0.815718      0.815836  \n",
       "support    0.816733  15000.000000  15000.000000  "
      ]
     },
     "execution_count": 10,
     "metadata": {},
     "output_type": "execute_result"
    }
   ],
   "source": [
    "modelo_pca_prueba = KNeighborsClassifier(10)\n",
    "start = time.perf_counter()\n",
    "\n",
    "modelo_pca_prueba.fit(X_train_PCA,y_train)\n",
    "model_pca_results = modelo_pca_prueba.predict(X_test_PCA)\n",
    "\n",
    "end = time.perf_counter()\n",
    "\n",
    "pd.DataFrame(classification_report(y_test,model_pca_results, output_dict=True))"
   ]
  },
  {
   "cell_type": "code",
   "execution_count": 11,
   "id": "9ab8a011",
   "metadata": {},
   "outputs": [
    {
     "name": "stdout",
     "output_type": "stream",
     "text": [
      "El tiempo de ejecucion fue de  1.4302329079982883  segundos\n"
     ]
    }
   ],
   "source": [
    "print(\"El tiempo de ejecucion fue de \", end-start, \" segundos\")"
   ]
  },
  {
   "cell_type": "markdown",
   "id": "cbd7bd65",
   "metadata": {},
   "source": [
    "## (2) Distribucion y orden de los datos, pruebas con submuestras de nuestro set de datos\n",
    "\n",
    "Queremos saber como se distribuye y ordena el set de datos para poder usar submuestras del mismo. Esto es para ver si vale la pena usarlas para hacer que las ejecuciones de los experimentos sean mas rapidas. \n",
    "Adem\\'as, una distribucion uniforme de las etiquetas nos dara pie a utilizar como principal metrica a 'accuracy'."
   ]
  },
  {
   "cell_type": "code",
   "execution_count": 12,
   "id": "ec3bdb52",
   "metadata": {
    "scrolled": true
   },
   "outputs": [
    {
     "data": {
      "text/html": [
       "<div>\n",
       "<style scoped>\n",
       "    .dataframe tbody tr th:only-of-type {\n",
       "        vertical-align: middle;\n",
       "    }\n",
       "\n",
       "    .dataframe tbody tr th {\n",
       "        vertical-align: top;\n",
       "    }\n",
       "\n",
       "    .dataframe thead th {\n",
       "        text-align: right;\n",
       "    }\n",
       "</style>\n",
       "<table border=\"1\" class=\"dataframe\">\n",
       "  <thead>\n",
       "    <tr style=\"text-align: right;\">\n",
       "      <th></th>\n",
       "      <th>label</th>\n",
       "    </tr>\n",
       "  </thead>\n",
       "  <tbody>\n",
       "    <tr>\n",
       "      <th>0</th>\n",
       "      <td>6000</td>\n",
       "    </tr>\n",
       "    <tr>\n",
       "      <th>1</th>\n",
       "      <td>6000</td>\n",
       "    </tr>\n",
       "    <tr>\n",
       "      <th>2</th>\n",
       "      <td>6000</td>\n",
       "    </tr>\n",
       "    <tr>\n",
       "      <th>3</th>\n",
       "      <td>6000</td>\n",
       "    </tr>\n",
       "    <tr>\n",
       "      <th>4</th>\n",
       "      <td>6000</td>\n",
       "    </tr>\n",
       "    <tr>\n",
       "      <th>5</th>\n",
       "      <td>6000</td>\n",
       "    </tr>\n",
       "    <tr>\n",
       "      <th>6</th>\n",
       "      <td>6000</td>\n",
       "    </tr>\n",
       "    <tr>\n",
       "      <th>7</th>\n",
       "      <td>6000</td>\n",
       "    </tr>\n",
       "    <tr>\n",
       "      <th>8</th>\n",
       "      <td>6000</td>\n",
       "    </tr>\n",
       "    <tr>\n",
       "      <th>9</th>\n",
       "      <td>6000</td>\n",
       "    </tr>\n",
       "  </tbody>\n",
       "</table>\n",
       "</div>"
      ],
      "text/plain": [
       "   label\n",
       "0   6000\n",
       "1   6000\n",
       "2   6000\n",
       "3   6000\n",
       "4   6000\n",
       "5   6000\n",
       "6   6000\n",
       "7   6000\n",
       "8   6000\n",
       "9   6000"
      ]
     },
     "execution_count": 12,
     "metadata": {},
     "output_type": "execute_result"
    }
   ],
   "source": [
    "df = pd.DataFrame((y.sort_values()).value_counts())\n",
    "df"
   ]
  },
  {
   "cell_type": "code",
   "execution_count": 13,
   "id": "6ddea863",
   "metadata": {},
   "outputs": [
    {
     "data": {
      "text/html": [
       "<div>\n",
       "<style scoped>\n",
       "    .dataframe tbody tr th:only-of-type {\n",
       "        vertical-align: middle;\n",
       "    }\n",
       "\n",
       "    .dataframe tbody tr th {\n",
       "        vertical-align: top;\n",
       "    }\n",
       "\n",
       "    .dataframe thead th {\n",
       "        text-align: right;\n",
       "    }\n",
       "</style>\n",
       "<table border=\"1\" class=\"dataframe\">\n",
       "  <thead>\n",
       "    <tr style=\"text-align: right;\">\n",
       "      <th></th>\n",
       "      <th>label</th>\n",
       "    </tr>\n",
       "  </thead>\n",
       "  <tbody>\n",
       "    <tr>\n",
       "      <th>4</th>\n",
       "      <td>114</td>\n",
       "    </tr>\n",
       "    <tr>\n",
       "      <th>3</th>\n",
       "      <td>112</td>\n",
       "    </tr>\n",
       "    <tr>\n",
       "      <th>0</th>\n",
       "      <td>108</td>\n",
       "    </tr>\n",
       "    <tr>\n",
       "      <th>6</th>\n",
       "      <td>106</td>\n",
       "    </tr>\n",
       "    <tr>\n",
       "      <th>7</th>\n",
       "      <td>102</td>\n",
       "    </tr>\n",
       "    <tr>\n",
       "      <th>2</th>\n",
       "      <td>99</td>\n",
       "    </tr>\n",
       "    <tr>\n",
       "      <th>8</th>\n",
       "      <td>96</td>\n",
       "    </tr>\n",
       "    <tr>\n",
       "      <th>9</th>\n",
       "      <td>91</td>\n",
       "    </tr>\n",
       "    <tr>\n",
       "      <th>1</th>\n",
       "      <td>89</td>\n",
       "    </tr>\n",
       "    <tr>\n",
       "      <th>5</th>\n",
       "      <td>83</td>\n",
       "    </tr>\n",
       "  </tbody>\n",
       "</table>\n",
       "</div>"
      ],
      "text/plain": [
       "   label\n",
       "4    114\n",
       "3    112\n",
       "0    108\n",
       "6    106\n",
       "7    102\n",
       "2     99\n",
       "8     96\n",
       "9     91\n",
       "1     89\n",
       "5     83"
      ]
     },
     "execution_count": 13,
     "metadata": {},
     "output_type": "execute_result"
    }
   ],
   "source": [
    "submuestra_y = pd.DataFrame((y[:1000].sort_values()).value_counts())\n",
    "submuestra_y"
   ]
  },
  {
   "cell_type": "code",
   "execution_count": 14,
   "id": "95d24102",
   "metadata": {},
   "outputs": [
    {
     "data": {
      "image/png": "[encoded data removed]",
      "text/plain": [
       "<Figure size 504x504 with 1 Axes>"
      ]
     },
     "metadata": {
      "needs_background": "light"
     },
     "output_type": "display_data"
    }
   ],
   "source": [
    "import matplotlib.pyplot as plt\n",
    "tck = np.arange(0,10,1)\n",
    "plt.figure(figsize=(7,7))\n",
    "sns.histplot(y)\n",
    "plt.xticks(tck)\n",
    "plt.title(\"Distribucion de las clases sobre todo el conjunto de entrenamiento\")\n",
    "plt.savefig(\"./graficos/dist-clases-train-todas\")"
   ]
  },
  {
   "cell_type": "code",
   "execution_count": 15,
   "id": "b1762e06",
   "metadata": {},
   "outputs": [
    {
     "data": {
      "image/png": "[encoded data removed]",
      "text/plain": [
       "<Figure size 504x504 with 1 Axes>"
      ]
     },
     "metadata": {
      "needs_background": "light"
     },
     "output_type": "display_data"
    }
   ],
   "source": [
    "plt.figure(figsize=(7,7))\n",
    "sns.histplot(y_val)\n",
    "plt.xticks(tck)\n",
    "plt.title(\"Distribucion de las clases sobre todo el conjunto de validacion\")\n",
    "plt.savefig(\"./graficos/dist-clases-val-todas\")"
   ]
  },
  {
   "cell_type": "code",
   "execution_count": 16,
   "id": "814bc0f3",
   "metadata": {},
   "outputs": [
    {
     "data": {
      "image/png": "[encoded data removed]",
      "text/plain": [
       "<Figure size 504x504 with 1 Axes>"
      ]
     },
     "metadata": {
      "needs_background": "light"
     },
     "output_type": "display_data"
    }
   ],
   "source": [
    "plt.figure(figsize=(7,7))\n",
    "plt.title(\"Distribucion, subconjunto aleatorio de 1000 im\\'agenes de entrenamiento\")\n",
    "sns.histplot(y.sample(frac = 1)[:1000])\n",
    "plt.savefig(\"./graficos/dist-clases-train-1000\")"
   ]
  },
  {
   "cell_type": "code",
   "execution_count": 17,
   "id": "0e57084c",
   "metadata": {},
   "outputs": [
    {
     "data": {
      "image/png": "[encoded data removed]",
      "text/plain": [
       "<Figure size 504x504 with 1 Axes>"
      ]
     },
     "metadata": {
      "needs_background": "light"
     },
     "output_type": "display_data"
    }
   ],
   "source": [
    "plt.figure(figsize=(7,7))\n",
    "plt.title(\"Distribucion, subconjunto aleatorio de 1000 im\\'agenes de validacion\")\n",
    "sns.histplot(y_val.sample(frac = 1)[:1000])\n",
    "plt.savefig(\"./graficos/dist-clases-val-1000\")"
   ]
  },
  {
   "cell_type": "markdown",
   "id": "37d9b7cf",
   "metadata": {},
   "source": [
    "Evidentemente nuestro dataset esta uniformemente distrubuido. Pero al tomar submuestras parece haber cierto orden en la aparicion de los datos. Nos tomaremos el trabajo de desordenarlo aleatoriamente para obtener submuestras mas uniformes. "
   ]
  },
  {
   "cell_type": "code",
   "execution_count": 18,
   "id": "70205bd8",
   "metadata": {},
   "outputs": [],
   "source": [
    "y2 = y.sample(frac = 1)"
   ]
  },
  {
   "cell_type": "code",
   "execution_count": 19,
   "id": "1e4b8a5c",
   "metadata": {},
   "outputs": [
    {
     "data": {
      "text/plain": [
       "<AxesSubplot:xlabel='label', ylabel='Count'>"
      ]
     },
     "execution_count": 19,
     "metadata": {},
     "output_type": "execute_result"
    },
    {
     "data": {
      "image/png": "[encoded data removed]",
      "text/plain": [
       "<Figure size 432x288 with 1 Axes>"
      ]
     },
     "metadata": {
      "needs_background": "light"
     },
     "output_type": "display_data"
    }
   ],
   "source": [
    "submuestra_y2_1000 = pd.DataFrame((y2[:1000]).value_counts())\n",
    "submuestra_y2_1000\n",
    "\n",
    "sns.histplot(y2[:1000])"
   ]
  },
  {
   "cell_type": "markdown",
   "id": "2520255e",
   "metadata": {},
   "source": [
    "La uniformidad empeoro desordenando mas el dataset. "
   ]
  },
  {
   "cell_type": "code",
   "execution_count": 20,
   "id": "d60f16f5",
   "metadata": {
    "scrolled": true
   },
   "outputs": [
    {
     "data": {
      "text/html": [
       "<div>\n",
       "<style scoped>\n",
       "    .dataframe tbody tr th:only-of-type {\n",
       "        vertical-align: middle;\n",
       "    }\n",
       "\n",
       "    .dataframe tbody tr th {\n",
       "        vertical-align: top;\n",
       "    }\n",
       "\n",
       "    .dataframe thead th {\n",
       "        text-align: right;\n",
       "    }\n",
       "</style>\n",
       "<table border=\"1\" class=\"dataframe\">\n",
       "  <thead>\n",
       "    <tr style=\"text-align: right;\">\n",
       "      <th></th>\n",
       "      <th>label</th>\n",
       "    </tr>\n",
       "  </thead>\n",
       "  <tbody>\n",
       "    <tr>\n",
       "      <th>1</th>\n",
       "      <td>1033</td>\n",
       "    </tr>\n",
       "    <tr>\n",
       "      <th>4</th>\n",
       "      <td>1025</td>\n",
       "    </tr>\n",
       "    <tr>\n",
       "      <th>5</th>\n",
       "      <td>1025</td>\n",
       "    </tr>\n",
       "    <tr>\n",
       "      <th>0</th>\n",
       "      <td>1018</td>\n",
       "    </tr>\n",
       "    <tr>\n",
       "      <th>8</th>\n",
       "      <td>1017</td>\n",
       "    </tr>\n",
       "    <tr>\n",
       "      <th>9</th>\n",
       "      <td>1004</td>\n",
       "    </tr>\n",
       "    <tr>\n",
       "      <th>2</th>\n",
       "      <td>981</td>\n",
       "    </tr>\n",
       "    <tr>\n",
       "      <th>7</th>\n",
       "      <td>981</td>\n",
       "    </tr>\n",
       "    <tr>\n",
       "      <th>6</th>\n",
       "      <td>972</td>\n",
       "    </tr>\n",
       "    <tr>\n",
       "      <th>3</th>\n",
       "      <td>944</td>\n",
       "    </tr>\n",
       "  </tbody>\n",
       "</table>\n",
       "</div>"
      ],
      "text/plain": [
       "   label\n",
       "1   1033\n",
       "4   1025\n",
       "5   1025\n",
       "0   1018\n",
       "8   1017\n",
       "9   1004\n",
       "2    981\n",
       "7    981\n",
       "6    972\n",
       "3    944"
      ]
     },
     "execution_count": 20,
     "metadata": {},
     "output_type": "execute_result"
    }
   ],
   "source": [
    "submuestra_y2_10000 = pd.DataFrame((y2[:10000].sort_values()).value_counts())\n",
    "submuestra_y2_10000"
   ]
  },
  {
   "cell_type": "code",
   "execution_count": 21,
   "id": "15f681f9",
   "metadata": {},
   "outputs": [
    {
     "data": {
      "text/plain": [
       "<AxesSubplot:xlabel='label', ylabel='Count'>"
      ]
     },
     "execution_count": 21,
     "metadata": {},
     "output_type": "execute_result"
    },
    {
     "data": {
      "image/png": "[encoded data removed]",
      "text/plain": [
       "<Figure size 432x288 with 1 Axes>"
      ]
     },
     "metadata": {
      "needs_background": "light"
     },
     "output_type": "display_data"
    }
   ],
   "source": [
    "sns.histplot(y2[:10000])"
   ]
  },
  {
   "cell_type": "markdown",
   "id": "c1b905ed",
   "metadata": {},
   "source": [
    "Para una muestra de tamanio relativamente chico, los datos no estan muy uniformemente distribuidos. Sin embargo a mayor cantidad de muestras mayor la uniformidad del set de datos. Vamos a evaluar como se desempenia nuestro modelo tomando este numero de muestras... "
   ]
  },
  {
   "cell_type": "markdown",
   "id": "ae019f7d",
   "metadata": {},
   "source": [
    "### Entrenamiento con un subconjunto"
   ]
  },
  {
   "cell_type": "code",
   "execution_count": 22,
   "id": "d25781de",
   "metadata": {},
   "outputs": [
    {
     "data": {
      "text/plain": [
       "0       2\n",
       "1       9\n",
       "2       6\n",
       "3       0\n",
       "4       3\n",
       "       ..\n",
       "9995    2\n",
       "9996    7\n",
       "9997    8\n",
       "9998    5\n",
       "9999    5\n",
       "Name: label, Length: 10000, dtype: int64"
      ]
     },
     "execution_count": 22,
     "metadata": {},
     "output_type": "execute_result"
    }
   ],
   "source": [
    "X_reducido = X.iloc[:10000,:]\n",
    "X_reducido\n",
    "y_reducido = y[:10000]\n",
    "y_reducido"
   ]
  },
  {
   "cell_type": "code",
   "execution_count": 23,
   "id": "6cbd93a0",
   "metadata": {},
   "outputs": [],
   "source": [
    "X_train, X_test, y_train, y_test = train_test_split(X_reducido,y_reducido)\n",
    "model = KNeighborsClassifier(10)\n",
    "\n",
    "start = time.perf_counter()\n",
    "model.fit(X_train,y_train)\n",
    "model_results = model.predict(X_test)\n",
    "\n",
    "end = time.perf_counter()"
   ]
  },
  {
   "cell_type": "code",
   "execution_count": 24,
   "id": "eb68b013",
   "metadata": {},
   "outputs": [
    {
     "name": "stdout",
     "output_type": "stream",
     "text": [
      "Con 10000 muestras el entrenamiento tardo  1.021294491001754 segundos\n"
     ]
    },
    {
     "data": {
      "text/html": [
       "<div>\n",
       "<style scoped>\n",
       "    .dataframe tbody tr th:only-of-type {\n",
       "        vertical-align: middle;\n",
       "    }\n",
       "\n",
       "    .dataframe tbody tr th {\n",
       "        vertical-align: top;\n",
       "    }\n",
       "\n",
       "    .dataframe thead th {\n",
       "        text-align: right;\n",
       "    }\n",
       "</style>\n",
       "<table border=\"1\" class=\"dataframe\">\n",
       "  <thead>\n",
       "    <tr style=\"text-align: right;\">\n",
       "      <th></th>\n",
       "      <th>0</th>\n",
       "      <th>1</th>\n",
       "      <th>2</th>\n",
       "      <th>3</th>\n",
       "      <th>4</th>\n",
       "      <th>5</th>\n",
       "      <th>6</th>\n",
       "      <th>7</th>\n",
       "      <th>8</th>\n",
       "      <th>9</th>\n",
       "      <th>accuracy</th>\n",
       "      <th>macro avg</th>\n",
       "      <th>weighted avg</th>\n",
       "    </tr>\n",
       "  </thead>\n",
       "  <tbody>\n",
       "    <tr>\n",
       "      <th>precision</th>\n",
       "      <td>0.863830</td>\n",
       "      <td>0.941423</td>\n",
       "      <td>0.723140</td>\n",
       "      <td>0.859922</td>\n",
       "      <td>0.727273</td>\n",
       "      <td>0.694444</td>\n",
       "      <td>0.530075</td>\n",
       "      <td>0.932075</td>\n",
       "      <td>0.892116</td>\n",
       "      <td>0.953975</td>\n",
       "      <td>0.8088</td>\n",
       "      <td>0.811827</td>\n",
       "      <td>0.817413</td>\n",
       "    </tr>\n",
       "    <tr>\n",
       "      <th>recall</th>\n",
       "      <td>0.722420</td>\n",
       "      <td>0.991189</td>\n",
       "      <td>0.697211</td>\n",
       "      <td>0.846743</td>\n",
       "      <td>0.780488</td>\n",
       "      <td>0.972222</td>\n",
       "      <td>0.555118</td>\n",
       "      <td>0.796774</td>\n",
       "      <td>0.964126</td>\n",
       "      <td>0.853933</td>\n",
       "      <td>0.8088</td>\n",
       "      <td>0.818022</td>\n",
       "      <td>0.808800</td>\n",
       "    </tr>\n",
       "    <tr>\n",
       "      <th>f1-score</th>\n",
       "      <td>0.786822</td>\n",
       "      <td>0.965665</td>\n",
       "      <td>0.709939</td>\n",
       "      <td>0.853282</td>\n",
       "      <td>0.752941</td>\n",
       "      <td>0.810185</td>\n",
       "      <td>0.542308</td>\n",
       "      <td>0.859130</td>\n",
       "      <td>0.926724</td>\n",
       "      <td>0.901186</td>\n",
       "      <td>0.8088</td>\n",
       "      <td>0.810818</td>\n",
       "      <td>0.809445</td>\n",
       "    </tr>\n",
       "    <tr>\n",
       "      <th>support</th>\n",
       "      <td>281.000000</td>\n",
       "      <td>227.000000</td>\n",
       "      <td>251.000000</td>\n",
       "      <td>261.000000</td>\n",
       "      <td>246.000000</td>\n",
       "      <td>180.000000</td>\n",
       "      <td>254.000000</td>\n",
       "      <td>310.000000</td>\n",
       "      <td>223.000000</td>\n",
       "      <td>267.000000</td>\n",
       "      <td>0.8088</td>\n",
       "      <td>2500.000000</td>\n",
       "      <td>2500.000000</td>\n",
       "    </tr>\n",
       "  </tbody>\n",
       "</table>\n",
       "</div>"
      ],
      "text/plain": [
       "                    0           1           2           3           4  \\\n",
       "precision    0.863830    0.941423    0.723140    0.859922    0.727273   \n",
       "recall       0.722420    0.991189    0.697211    0.846743    0.780488   \n",
       "f1-score     0.786822    0.965665    0.709939    0.853282    0.752941   \n",
       "support    281.000000  227.000000  251.000000  261.000000  246.000000   \n",
       "\n",
       "                    5           6           7           8           9  \\\n",
       "precision    0.694444    0.530075    0.932075    0.892116    0.953975   \n",
       "recall       0.972222    0.555118    0.796774    0.964126    0.853933   \n",
       "f1-score     0.810185    0.542308    0.859130    0.926724    0.901186   \n",
       "support    180.000000  254.000000  310.000000  223.000000  267.000000   \n",
       "\n",
       "           accuracy    macro avg  weighted avg  \n",
       "precision    0.8088     0.811827      0.817413  \n",
       "recall       0.8088     0.818022      0.808800  \n",
       "f1-score     0.8088     0.810818      0.809445  \n",
       "support      0.8088  2500.000000   2500.000000  "
      ]
     },
     "execution_count": 24,
     "metadata": {},
     "output_type": "execute_result"
    }
   ],
   "source": [
    "print(\"Con 10000 muestras el entrenamiento tardo \", end-start, \"segundos\")\n",
    "\n",
    "metrics = classification_report(model_results, y_test,output_dict=True)\n",
    "pd.DataFrame(metrics)"
   ]
  },
  {
   "cell_type": "markdown",
   "id": "04f59d1e",
   "metadata": {},
   "source": [
    "# Conclusiones \n",
    "Hemos tanteado un poco el dataframe y los metodos que utilizaremos para el primer experimento principal, que sera el de encontrar el mejor par de parametros para KNN y PCA. \n",
    "La performance tomando 10k de muestras es buena, pero podemos tener una que tome un segundo mas y tenga mejores metricas utilizando todo el dataset y aplicando PCA."
   ]
  },
  {
   "cell_type": "markdown",
   "id": "1adda985",
   "metadata": {},
   "source": [
    "# El mejor par $k,\\alpha$ (proxima notebook)\n",
    "En la proxima notebook correremos el "
   ]
  },
  {
   "cell_type": "code",
   "execution_count": null,
   "id": "806cbac1",
   "metadata": {},
   "outputs": [],
   "source": []
  }
 ],
 "metadata": {
  "kernelspec": {
   "display_name": "Python 3 (ipykernel)",
   "language": "python",
   "name": "python3"
  },
  "language_info": {
   "codemirror_mode": {
    "name": "ipython",
    "version": 3
   },
   "file_extension": ".py",
   "mimetype": "text/x-python",
   "name": "python",
   "nbconvert_exporter": "python",
   "pygments_lexer": "ipython3",
   "version": "3.8.10"
  }
 },
 "nbformat": 4,
 "nbformat_minor": 5
}
