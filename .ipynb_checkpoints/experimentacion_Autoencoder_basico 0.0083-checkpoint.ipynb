{
 "cells": [
  {
   "cell_type": "code",
   "execution_count": 2,
   "metadata": {
    "id": "8ZmMusYd8TSV"
   },
   "outputs": [],
   "source": [
    "import numpy as np\n",
    "import pandas as pd\n",
    "import tensorflow as tf\n",
    "from tensorflow import keras\n",
    "from tensorflow.keras import layers\n"
   ]
  },
  {
   "cell_type": "code",
   "execution_count": 3,
   "metadata": {
    "colab": {
     "base_uri": "https://localhost:8080/"
    },
    "id": "i5NIY8VQ9Atg",
    "outputId": "88d388f2-c2e5-4aec-fab8-135624116292"
   },
   "outputs": [
    {
     "name": "stdout",
     "output_type": "stream",
     "text": [
      "Downloading data from https://storage.googleapis.com/tensorflow/tf-keras-datasets/train-labels-idx1-ubyte.gz\n",
      "32768/29515 [=================================] - 0s 0us/step\n",
      "40960/29515 [=========================================] - 0s 0us/step\n",
      "Downloading data from https://storage.googleapis.com/tensorflow/tf-keras-datasets/train-images-idx3-ubyte.gz\n",
      "26427392/26421880 [==============================] - 0s 0us/step\n",
      "26435584/26421880 [==============================] - 0s 0us/step\n",
      "Downloading data from https://storage.googleapis.com/tensorflow/tf-keras-datasets/t10k-labels-idx1-ubyte.gz\n",
      "16384/5148 [===============================================================================================] - 0s 0us/step\n",
      "Downloading data from https://storage.googleapis.com/tensorflow/tf-keras-datasets/t10k-images-idx3-ubyte.gz\n",
      "4423680/4422102 [==============================] - 0s 0us/step\n",
      "4431872/4422102 [==============================] - 0s 0us/step\n"
     ]
    }
   ],
   "source": [
    "(X_train, y_train), (X_val, y_val) = tf.keras.datasets.fashion_mnist.load_data()\n"
   ]
  },
  {
   "cell_type": "code",
   "execution_count": 10,
   "metadata": {
    "id": "mNajOtqc9lo8"
   },
   "outputs": [],
   "source": [
    "\n",
    "encoding_dim = 32\n",
    "\n",
    "input_img = keras.Input(shape=(784,))\n",
    "encoded = layers.Dense(encoding_dim, activation='relu')(input_img)\n",
    "# \"decoded\" is the lossy reconstruction of the input\n",
    "decoded = layers.Dense(784, activation='sigmoid')(encoded)\n",
    "\n",
    "# This model maps an input to its reconstruction\n",
    "autoencoder = keras.Model(input_img, decoded)\n",
    "encoder = keras.Model(input_img, encoded)\n",
    "\n",
    "encoded_input = keras.Input(shape=(encoding_dim,))\n",
    "# Retrieve the last layer of the autoencoder model\n",
    "decoder_layer = (autoencoder.layers[-1])(encoded_input)\n",
    "# Create the decoder model\n",
    "decoder = keras.Model(encoded_input, decoder_layer)\n",
    "\n"
   ]
  },
  {
   "cell_type": "code",
   "execution_count": 11,
   "metadata": {
    "colab": {
     "base_uri": "https://localhost:8080/"
    },
    "id": "ezni1Tq69pEG",
    "outputId": "30610608-bd90-4976-cd22-8306d0342042"
   },
   "outputs": [
    {
     "name": "stdout",
     "output_type": "stream",
     "text": [
      "(60000, 784)\n",
      "(10000, 784)\n"
     ]
    }
   ],
   "source": [
    "\n",
    "\n",
    "autoencoder.compile(optimizer='adam', loss='binary_crossentropy')\n",
    "\n",
    "X_train = (X_train.astype('float32') / 255.)\n",
    "X_val = (X_val.astype('float32') / 255.)\n",
    "X_train = X_train.reshape((len(X_train), np.prod(X_train.shape[1:])))\n",
    "X_val = X_val.reshape((len(X_val), np.prod(X_val.shape[1:])))\n",
    "print(X_train.shape)\n",
    "print(X_val.shape)\n",
    "\n"
   ]
  },
  {
   "cell_type": "code",
   "execution_count": 12,
   "metadata": {
    "colab": {
     "base_uri": "https://localhost:8080/"
    },
    "id": "g30YPp77-EjX",
    "outputId": "0caf1aa5-7f0d-445b-94ed-8d7bb8bcae09"
   },
   "outputs": [
    {
     "name": "stdout",
     "output_type": "stream",
     "text": [
      "Epoch 1/50\n",
      "235/235 [==============================] - 3s 12ms/step - loss: 0.3430 - val_loss: 0.0615\n",
      "Epoch 2/50\n",
      "235/235 [==============================] - 3s 12ms/step - loss: 0.0315 - val_loss: 0.0181\n",
      "Epoch 3/50\n",
      "235/235 [==============================] - 3s 12ms/step - loss: 0.0147 - val_loss: 0.0124\n",
      "Epoch 4/50\n",
      "235/235 [==============================] - 3s 11ms/step - loss: 0.0116 - val_loss: 0.0109\n",
      "Epoch 5/50\n",
      "235/235 [==============================] - 3s 11ms/step - loss: 0.0106 - val_loss: 0.0103\n",
      "Epoch 6/50\n",
      "235/235 [==============================] - 3s 11ms/step - loss: 0.0101 - val_loss: 0.0100\n",
      "Epoch 7/50\n",
      "235/235 [==============================] - 3s 11ms/step - loss: 0.0099 - val_loss: 0.0099\n",
      "Epoch 8/50\n",
      "235/235 [==============================] - 3s 11ms/step - loss: 0.0098 - val_loss: 0.0098\n",
      "Epoch 9/50\n",
      "235/235 [==============================] - 3s 11ms/step - loss: 0.0097 - val_loss: 0.0097\n",
      "Epoch 10/50\n",
      "235/235 [==============================] - 3s 12ms/step - loss: 0.0096 - val_loss: 0.0096\n",
      "Epoch 11/50\n",
      "235/235 [==============================] - 3s 11ms/step - loss: 0.0095 - val_loss: 0.0095\n",
      "Epoch 12/50\n",
      "235/235 [==============================] - 3s 11ms/step - loss: 0.0095 - val_loss: 0.0094\n",
      "Epoch 13/50\n",
      "235/235 [==============================] - 3s 11ms/step - loss: 0.0094 - val_loss: 0.0094\n",
      "Epoch 14/50\n",
      "235/235 [==============================] - 3s 11ms/step - loss: 0.0093 - val_loss: 0.0093\n",
      "Epoch 15/50\n",
      "235/235 [==============================] - 3s 11ms/step - loss: 0.0092 - val_loss: 0.0092\n",
      "Epoch 16/50\n",
      "235/235 [==============================] - 3s 12ms/step - loss: 0.0091 - val_loss: 0.0091\n",
      "Epoch 17/50\n",
      "235/235 [==============================] - 3s 12ms/step - loss: 0.0091 - val_loss: 0.0090\n",
      "Epoch 18/50\n",
      "235/235 [==============================] - 3s 11ms/step - loss: 0.0090 - val_loss: 0.0090\n",
      "Epoch 19/50\n",
      "235/235 [==============================] - 3s 11ms/step - loss: 0.0089 - val_loss: 0.0089\n",
      "Epoch 20/50\n",
      "235/235 [==============================] - 3s 11ms/step - loss: 0.0088 - val_loss: 0.0088\n",
      "Epoch 21/50\n",
      "235/235 [==============================] - 3s 12ms/step - loss: 0.0088 - val_loss: 0.0087\n",
      "Epoch 22/50\n",
      "235/235 [==============================] - 3s 12ms/step - loss: 0.0087 - val_loss: 0.0087\n",
      "Epoch 23/50\n",
      "235/235 [==============================] - 3s 12ms/step - loss: 0.0086 - val_loss: 0.0086\n",
      "Epoch 24/50\n",
      "235/235 [==============================] - 3s 12ms/step - loss: 0.0086 - val_loss: 0.0086\n",
      "Epoch 25/50\n",
      "235/235 [==============================] - 3s 12ms/step - loss: 0.0085 - val_loss: 0.0085\n",
      "Epoch 26/50\n",
      "235/235 [==============================] - 3s 12ms/step - loss: 0.0085 - val_loss: 0.0085\n",
      "Epoch 27/50\n",
      "235/235 [==============================] - 3s 11ms/step - loss: 0.0084 - val_loss: 0.0084\n",
      "Epoch 28/50\n",
      "235/235 [==============================] - 3s 12ms/step - loss: 0.0084 - val_loss: 0.0084\n",
      "Epoch 29/50\n",
      "235/235 [==============================] - 3s 11ms/step - loss: 0.0084 - val_loss: 0.0084\n",
      "Epoch 30/50\n",
      "235/235 [==============================] - 3s 12ms/step - loss: 0.0084 - val_loss: 0.0084\n",
      "Epoch 31/50\n",
      "235/235 [==============================] - 3s 11ms/step - loss: 0.0084 - val_loss: 0.0084\n",
      "Epoch 32/50\n",
      "235/235 [==============================] - 3s 12ms/step - loss: 0.0084 - val_loss: 0.0084\n",
      "Epoch 33/50\n",
      "235/235 [==============================] - 3s 12ms/step - loss: 0.0084 - val_loss: 0.0084\n",
      "Epoch 34/50\n",
      "235/235 [==============================] - 3s 12ms/step - loss: 0.0083 - val_loss: 0.0084\n",
      "Epoch 35/50\n",
      "235/235 [==============================] - 3s 12ms/step - loss: 0.0083 - val_loss: 0.0084\n",
      "Epoch 36/50\n",
      "235/235 [==============================] - 3s 11ms/step - loss: 0.0083 - val_loss: 0.0084\n",
      "Epoch 37/50\n",
      "235/235 [==============================] - 3s 12ms/step - loss: 0.0083 - val_loss: 0.0084\n",
      "Epoch 38/50\n",
      "235/235 [==============================] - 3s 12ms/step - loss: 0.0083 - val_loss: 0.0083\n",
      "Epoch 39/50\n",
      "235/235 [==============================] - 3s 12ms/step - loss: 0.0083 - val_loss: 0.0083\n",
      "Epoch 40/50\n",
      "235/235 [==============================] - 3s 12ms/step - loss: 0.0083 - val_loss: 0.0083\n",
      "Epoch 41/50\n",
      "235/235 [==============================] - 3s 12ms/step - loss: 0.0083 - val_loss: 0.0083\n",
      "Epoch 42/50\n",
      "235/235 [==============================] - 3s 12ms/step - loss: 0.0083 - val_loss: 0.0083\n",
      "Epoch 43/50\n",
      "235/235 [==============================] - 3s 12ms/step - loss: 0.0083 - val_loss: 0.0083\n",
      "Epoch 44/50\n",
      "235/235 [==============================] - 3s 12ms/step - loss: 0.0083 - val_loss: 0.0083\n",
      "Epoch 45/50\n",
      "235/235 [==============================] - 3s 12ms/step - loss: 0.0083 - val_loss: 0.0083\n",
      "Epoch 46/50\n",
      "235/235 [==============================] - 3s 12ms/step - loss: 0.0083 - val_loss: 0.0083\n",
      "Epoch 47/50\n",
      "235/235 [==============================] - 3s 12ms/step - loss: 0.0083 - val_loss: 0.0083\n",
      "Epoch 48/50\n",
      "235/235 [==============================] - 3s 12ms/step - loss: 0.0083 - val_loss: 0.0083\n",
      "Epoch 49/50\n",
      "235/235 [==============================] - 3s 11ms/step - loss: 0.0083 - val_loss: 0.0083\n",
      "Epoch 50/50\n",
      "235/235 [==============================] - 3s 12ms/step - loss: 0.0083 - val_loss: 0.0083\n"
     ]
    },
    {
     "data": {
      "text/plain": [
       "<keras.callbacks.History at 0x7fcf603f0550>"
      ]
     },
     "execution_count": 12,
     "metadata": {},
     "output_type": "execute_result"
    }
   ],
   "source": [
    "autoencoder.fit(X_train, X_train,\n",
    "                epochs=50,\n",
    "                batch_size=256,\n",
    "                shuffle=True,\n",
    "                validation_data=(X_val, X_val))"
   ]
  },
  {
   "cell_type": "code",
   "execution_count": null,
   "metadata": {
    "id": "dlzO0H-S-JvG"
   },
   "outputs": [],
   "source": []
  }
 ],
 "metadata": {
  "accelerator": "TPU",
  "colab": {
   "name": "Autoencoder basico.ipynb",
   "provenance": []
  },
  "kernelspec": {
   "display_name": "Python 3 (ipykernel)",
   "language": "python",
   "name": "python3"
  },
  "language_info": {
   "codemirror_mode": {
    "name": "ipython",
    "version": 3
   },
   "file_extension": ".py",
   "mimetype": "text/x-python",
   "name": "python",
   "nbconvert_exporter": "python",
   "pygments_lexer": "ipython3",
   "version": "3.8.10"
  }
 },
 "nbformat": 4,
 "nbformat_minor": 1
}
