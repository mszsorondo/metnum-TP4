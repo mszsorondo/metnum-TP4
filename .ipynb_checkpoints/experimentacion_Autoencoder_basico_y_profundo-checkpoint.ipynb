{
 "cells": [
  {
   "cell_type": "markdown",
   "metadata": {
    "id": "jhgqdbxmHE_e"
   },
   "source": [
    "# Reduccion de la dimensionalidad con autoencoders\n",
    "\n",
    "En esta parte de la experimentacion trabajaremos para poder reducir la dimension de los datos con aprendizaje profundo. Usaremos una arquitectura particular denominada 'autoencoder' (... desarrollar en el informe)"
   ]
  },
  {
   "cell_type": "code",
   "execution_count": 1,
   "metadata": {
    "id": "8ZmMusYd8TSV"
   },
   "outputs": [],
   "source": [
    "import numpy as np\n",
    "import pandas as pd\n",
    "import tensorflow as tf\n",
    "from tensorflow import keras\n",
    "from tensorflow.keras import layers\n"
   ]
  },
  {
   "cell_type": "code",
   "execution_count": 2,
   "metadata": {
    "colab": {
     "base_uri": "https://localhost:8080/"
    },
    "id": "i5NIY8VQ9Atg",
    "outputId": "9055fc69-f74c-49a5-8a0e-1bea52972e68"
   },
   "outputs": [
    {
     "name": "stdout",
     "output_type": "stream",
     "text": [
      "Downloading data from https://storage.googleapis.com/tensorflow/tf-keras-datasets/train-labels-idx1-ubyte.gz\n",
      "32768/29515 [=================================] - 0s 0us/step\n",
      "40960/29515 [=========================================] - 0s 0us/step\n",
      "Downloading data from https://storage.googleapis.com/tensorflow/tf-keras-datasets/train-images-idx3-ubyte.gz\n",
      "26427392/26421880 [==============================] - 0s 0us/step\n",
      "26435584/26421880 [==============================] - 0s 0us/step\n",
      "Downloading data from https://storage.googleapis.com/tensorflow/tf-keras-datasets/t10k-labels-idx1-ubyte.gz\n",
      "16384/5148 [===============================================================================================] - 0s 0us/step\n",
      "Downloading data from https://storage.googleapis.com/tensorflow/tf-keras-datasets/t10k-images-idx3-ubyte.gz\n",
      "4423680/4422102 [==============================] - 0s 0us/step\n",
      "4431872/4422102 [==============================] - 0s 0us/step\n"
     ]
    }
   ],
   "source": [
    "(X_train, y_train), (X_val, y_val) = tf.keras.datasets.fashion_mnist.load_data()\n"
   ]
  },
  {
   "cell_type": "code",
   "execution_count": 3,
   "metadata": {
    "id": "mNajOtqc9lo8"
   },
   "outputs": [],
   "source": [
    "\n",
    "encoding_dim = 32\n",
    "\n",
    "input_img = keras.Input(shape=(784,))\n",
    "encoded = layers.Dense(encoding_dim, activation='relu')(input_img)\n",
    "# \"decoded\" is the lossy reconstruction of the input\n",
    "decoded = layers.Dense(784, activation='sigmoid')(encoded)\n",
    "\n",
    "# This amodel maps an input to its reconstruction\n",
    "autoencoder = keras.Model(input_img, decoded)\n",
    "encoder = keras.Model(input_img, encoded)\n",
    "\n",
    "encoded_input = keras.Input(shape=(encoding_dim,))\n",
    "# Retrieve the last layer of the autoencoder model\n",
    "decoder_layer = (autoencoder.layers[-1])\n",
    "# Create the decoder model\n",
    "decoder = keras.Model(encoded_input, decoder_layer(encoded_input))\n",
    "\n"
   ]
  },
  {
   "cell_type": "code",
   "execution_count": 4,
   "metadata": {
    "colab": {
     "base_uri": "https://localhost:8080/"
    },
    "id": "ezni1Tq69pEG",
    "outputId": "c393218c-8d0a-4a6a-86e7-4bca1483d366"
   },
   "outputs": [
    {
     "name": "stdout",
     "output_type": "stream",
     "text": [
      "(60000, 784)\n",
      "(10000, 784)\n"
     ]
    }
   ],
   "source": [
    "\n",
    "\n",
    "autoencoder.compile(optimizer='adam', loss='binary_crossentropy')\n",
    "\n",
    "X_train = (X_train.astype('float32') / 255.)\n",
    "X_val = (X_val.astype('float32') / 255.)\n",
    "X_train = X_train.reshape((len(X_train), np.prod(X_train.shape[1:])))\n",
    "X_val = X_val.reshape((len(X_val), np.prod(X_val.shape[1:])))\n",
    "print(X_train.shape)\n",
    "print(X_val.shape)\n",
    "\n"
   ]
  },
  {
   "cell_type": "code",
   "execution_count": 5,
   "metadata": {
    "colab": {
     "base_uri": "https://localhost:8080/"
    },
    "id": "g30YPp77-EjX",
    "outputId": "3b8975c2-b726-424e-91d9-7d149212af84"
   },
   "outputs": [
    {
     "name": "stdout",
     "output_type": "stream",
     "text": [
      "Epoch 1/50\n",
      "235/235 [==============================] - 4s 12ms/step - loss: 0.4151 - val_loss: 0.3408\n",
      "Epoch 2/50\n",
      "235/235 [==============================] - 3s 12ms/step - loss: 0.3266 - val_loss: 0.3195\n",
      "Epoch 3/50\n",
      "235/235 [==============================] - 3s 11ms/step - loss: 0.3120 - val_loss: 0.3091\n",
      "Epoch 4/50\n",
      "235/235 [==============================] - 3s 12ms/step - loss: 0.3033 - val_loss: 0.3021\n",
      "Epoch 5/50\n",
      "235/235 [==============================] - 3s 12ms/step - loss: 0.2972 - val_loss: 0.2970\n",
      "Epoch 6/50\n",
      "235/235 [==============================] - 3s 12ms/step - loss: 0.2932 - val_loss: 0.2938\n",
      "Epoch 7/50\n",
      "235/235 [==============================] - 3s 12ms/step - loss: 0.2906 - val_loss: 0.2918\n",
      "Epoch 8/50\n",
      "235/235 [==============================] - 3s 12ms/step - loss: 0.2889 - val_loss: 0.2906\n",
      "Epoch 9/50\n",
      "235/235 [==============================] - 3s 12ms/step - loss: 0.2877 - val_loss: 0.2893\n",
      "Epoch 10/50\n",
      "235/235 [==============================] - 3s 12ms/step - loss: 0.2868 - val_loss: 0.2887\n",
      "Epoch 11/50\n",
      "235/235 [==============================] - 3s 11ms/step - loss: 0.2862 - val_loss: 0.2881\n",
      "Epoch 12/50\n",
      "235/235 [==============================] - 3s 11ms/step - loss: 0.2858 - val_loss: 0.2877\n",
      "Epoch 13/50\n",
      "235/235 [==============================] - 3s 12ms/step - loss: 0.2854 - val_loss: 0.2874\n",
      "Epoch 14/50\n",
      "235/235 [==============================] - 3s 12ms/step - loss: 0.2851 - val_loss: 0.2872\n",
      "Epoch 15/50\n",
      "235/235 [==============================] - 3s 12ms/step - loss: 0.2848 - val_loss: 0.2869\n",
      "Epoch 16/50\n",
      "235/235 [==============================] - 3s 12ms/step - loss: 0.2847 - val_loss: 0.2872\n",
      "Epoch 17/50\n",
      "235/235 [==============================] - 3s 13ms/step - loss: 0.2845 - val_loss: 0.2866\n",
      "Epoch 18/50\n",
      "235/235 [==============================] - 3s 12ms/step - loss: 0.2843 - val_loss: 0.2864\n",
      "Epoch 19/50\n",
      "235/235 [==============================] - 3s 12ms/step - loss: 0.2841 - val_loss: 0.2861\n",
      "Epoch 20/50\n",
      "235/235 [==============================] - 3s 12ms/step - loss: 0.2837 - val_loss: 0.2857\n",
      "Epoch 21/50\n",
      "235/235 [==============================] - 3s 13ms/step - loss: 0.2834 - val_loss: 0.2856\n",
      "Epoch 22/50\n",
      "235/235 [==============================] - 3s 13ms/step - loss: 0.2833 - val_loss: 0.2855\n",
      "Epoch 23/50\n",
      "235/235 [==============================] - 3s 12ms/step - loss: 0.2832 - val_loss: 0.2856\n",
      "Epoch 24/50\n",
      "235/235 [==============================] - 3s 13ms/step - loss: 0.2831 - val_loss: 0.2853\n",
      "Epoch 25/50\n",
      "235/235 [==============================] - 3s 13ms/step - loss: 0.2830 - val_loss: 0.2853\n",
      "Epoch 26/50\n",
      "235/235 [==============================] - 3s 13ms/step - loss: 0.2829 - val_loss: 0.2852\n",
      "Epoch 27/50\n",
      "235/235 [==============================] - 3s 13ms/step - loss: 0.2828 - val_loss: 0.2851\n",
      "Epoch 28/50\n",
      "235/235 [==============================] - 3s 13ms/step - loss: 0.2827 - val_loss: 0.2850\n",
      "Epoch 29/50\n",
      "235/235 [==============================] - 3s 13ms/step - loss: 0.2827 - val_loss: 0.2849\n",
      "Epoch 30/50\n",
      "235/235 [==============================] - 3s 12ms/step - loss: 0.2826 - val_loss: 0.2849\n",
      "Epoch 31/50\n",
      "235/235 [==============================] - 3s 13ms/step - loss: 0.2826 - val_loss: 0.2849\n",
      "Epoch 32/50\n",
      "235/235 [==============================] - 3s 13ms/step - loss: 0.2825 - val_loss: 0.2848\n",
      "Epoch 33/50\n",
      "235/235 [==============================] - 3s 13ms/step - loss: 0.2825 - val_loss: 0.2848\n",
      "Epoch 34/50\n",
      "235/235 [==============================] - 3s 13ms/step - loss: 0.2824 - val_loss: 0.2847\n",
      "Epoch 35/50\n",
      "235/235 [==============================] - 3s 12ms/step - loss: 0.2824 - val_loss: 0.2846\n",
      "Epoch 36/50\n",
      "235/235 [==============================] - 3s 13ms/step - loss: 0.2823 - val_loss: 0.2846\n",
      "Epoch 37/50\n",
      "235/235 [==============================] - 3s 13ms/step - loss: 0.2823 - val_loss: 0.2846\n",
      "Epoch 38/50\n",
      "235/235 [==============================] - 3s 13ms/step - loss: 0.2822 - val_loss: 0.2846\n",
      "Epoch 39/50\n",
      "235/235 [==============================] - 3s 13ms/step - loss: 0.2822 - val_loss: 0.2845\n",
      "Epoch 40/50\n",
      "235/235 [==============================] - 3s 13ms/step - loss: 0.2821 - val_loss: 0.2844\n",
      "Epoch 41/50\n",
      "235/235 [==============================] - 3s 12ms/step - loss: 0.2821 - val_loss: 0.2845\n",
      "Epoch 42/50\n",
      "235/235 [==============================] - 3s 12ms/step - loss: 0.2821 - val_loss: 0.2844\n",
      "Epoch 43/50\n",
      "235/235 [==============================] - 3s 12ms/step - loss: 0.2821 - val_loss: 0.2844\n",
      "Epoch 44/50\n",
      "235/235 [==============================] - 3s 13ms/step - loss: 0.2820 - val_loss: 0.2845\n",
      "Epoch 45/50\n",
      "235/235 [==============================] - 3s 12ms/step - loss: 0.2820 - val_loss: 0.2844\n",
      "Epoch 46/50\n",
      "235/235 [==============================] - 3s 13ms/step - loss: 0.2820 - val_loss: 0.2843\n",
      "Epoch 47/50\n",
      "235/235 [==============================] - 3s 13ms/step - loss: 0.2819 - val_loss: 0.2844\n",
      "Epoch 48/50\n",
      "235/235 [==============================] - 3s 13ms/step - loss: 0.2819 - val_loss: 0.2843\n",
      "Epoch 49/50\n",
      "235/235 [==============================] - 3s 13ms/step - loss: 0.2819 - val_loss: 0.2843\n",
      "Epoch 50/50\n",
      "235/235 [==============================] - 3s 12ms/step - loss: 0.2819 - val_loss: 0.2842\n"
     ]
    },
    {
     "data": {
      "text/plain": [
       "<keras.callbacks.History at 0x7fea7418d390>"
      ]
     },
     "execution_count": 5,
     "metadata": {},
     "output_type": "execute_result"
    }
   ],
   "source": [
    "autoencoder.fit(X_train, X_train,\n",
    "                epochs=50,\n",
    "                batch_size=256,\n",
    "                shuffle=True,\n",
    "                validation_data=(X_val, X_val))"
   ]
  },
  {
   "cell_type": "markdown",
   "metadata": {
    "id": "GrlwyyVpFEx3"
   },
   "source": [
    "### Evaluacion con KNN"
   ]
  },
  {
   "cell_type": "code",
   "execution_count": 6,
   "metadata": {
    "id": "p8Av49a0FGwg"
   },
   "outputs": [],
   "source": [
    "from sklearn.model_selection import train_test_split\n",
    "from sklearn.neighbors import KNeighborsClassifier\n",
    "\n",
    "X_train_32 = encoder.predict(X_train)\n",
    "X_val_32 = encoder.predict(X_val)\n"
   ]
  },
  {
   "cell_type": "code",
   "execution_count": 7,
   "metadata": {
    "colab": {
     "base_uri": "https://localhost:8080/"
    },
    "id": "wjXcUB_eGmPv",
    "outputId": "8a7ca7db-bf75-445f-e2e8-812bbed0f9ae"
   },
   "outputs": [
    {
     "data": {
      "text/plain": [
       "(10000, 32)"
      ]
     },
     "execution_count": 7,
     "metadata": {},
     "output_type": "execute_result"
    }
   ],
   "source": [
    "X_val_32.shape"
   ]
  },
  {
   "cell_type": "code",
   "execution_count": 8,
   "metadata": {
    "id": "NqQVihv7GLvl"
   },
   "outputs": [],
   "source": [
    "model = KNeighborsClassifier(n_neighbors = 15).fit(X_train_32,y_train)"
   ]
  },
  {
   "cell_type": "code",
   "execution_count": 9,
   "metadata": {
    "colab": {
     "base_uri": "https://localhost:8080/"
    },
    "id": "_MmbhiwNGSBR",
    "outputId": "5420cc90-43d9-4ce8-c8fc-51f433b4f386"
   },
   "outputs": [
    {
     "name": "stdout",
     "output_type": "stream",
     "text": [
      "0.8517\n"
     ]
    }
   ],
   "source": [
    "from sklearn.metrics import accuracy_score\n",
    "\n",
    "preds = model.predict(X_val_32)\n",
    "\n",
    "print(accuracy_score(y_val,preds))"
   ]
  },
  {
   "cell_type": "markdown",
   "metadata": {
    "id": "FXAHPobrG9SL"
   },
   "source": [
    "Muy buen resultado para una primera prueba."
   ]
  },
  {
   "cell_type": "markdown",
   "metadata": {
    "id": "Sh7p61u6I60R"
   },
   "source": []
  },
  {
   "cell_type": "markdown",
   "metadata": {
    "id": "6-oi_hTYIvsT"
   },
   "source": [
    "## Redes mas profundas"
   ]
  },
  {
   "cell_type": "markdown",
   "metadata": {
    "id": "21iqevsyu3XG"
   },
   "source": [
    "Voy a hacer un modelo mas profundo para ver si el solo hecho de agregar profundidad rinde mejor."
   ]
  },
  {
   "cell_type": "code",
   "execution_count": 19,
   "metadata": {
    "id": "LtWHA9wDG8nk"
   },
   "outputs": [],
   "source": [
    "input_img = keras.Input(shape=(784,))\n",
    "\n",
    "encod_lvl1 = layers.Dense(392, activation='relu')(input_img)\n",
    "\n",
    "encod_lvl2 = layers.Dense(200, activation='relu')(encod_lvl1)\n",
    "\n",
    "encod_lvl3 = layers.Dense(100, activation='relu')(encod_lvl2)\n",
    "\n",
    "neck = layers.Dense(32, activation='relu')(encod_lvl3)\n",
    "\n",
    "decod_lvl3 = layers.Dense(100, activation='relu')(neck)\n",
    "\n",
    "decod_lvl2 = layers.Dense(200, activation='relu')(decod_lvl3)\n",
    "\n",
    "decod_lvl1 = layers.Dense(392, activation='relu')(decod_lvl2)\n",
    "\n",
    "output_img = layers.Dense(784, activation='sigmoid')(decod_lvl1)\n",
    "\n",
    "\n",
    "encoder = keras.Model(input_img,neck)\n",
    "autoencoder = keras.Model(input_img,output_img)\n"
   ]
  },
  {
   "cell_type": "code",
   "execution_count": 20,
   "metadata": {
    "colab": {
     "base_uri": "https://localhost:8080/"
    },
    "id": "LxEpQzDeGwWz",
    "outputId": "56cc4ad7-b855-4d3d-9796-bfb14bc73bd8"
   },
   "outputs": [
    {
     "name": "stdout",
     "output_type": "stream",
     "text": [
      "Epoch 1/50\n",
      "235/235 [==============================] - 9s 37ms/step - loss: 0.3684 - val_loss: 0.3167\n",
      "Epoch 2/50\n",
      "235/235 [==============================] - 9s 37ms/step - loss: 0.3059 - val_loss: 0.3018\n",
      "Epoch 3/50\n",
      "235/235 [==============================] - 9s 37ms/step - loss: 0.2967 - val_loss: 0.2952\n",
      "Epoch 4/50\n",
      "235/235 [==============================] - 9s 37ms/step - loss: 0.2915 - val_loss: 0.2921\n",
      "Epoch 5/50\n",
      "235/235 [==============================] - 9s 37ms/step - loss: 0.2884 - val_loss: 0.2912\n",
      "Epoch 6/50\n",
      "235/235 [==============================] - 9s 36ms/step - loss: 0.2858 - val_loss: 0.2870\n",
      "Epoch 7/50\n",
      "235/235 [==============================] - 9s 37ms/step - loss: 0.2837 - val_loss: 0.2856\n",
      "Epoch 8/50\n",
      "235/235 [==============================] - 9s 37ms/step - loss: 0.2822 - val_loss: 0.2834\n",
      "Epoch 9/50\n",
      "235/235 [==============================] - 9s 37ms/step - loss: 0.2808 - val_loss: 0.2827\n",
      "Epoch 10/50\n",
      "235/235 [==============================] - 9s 37ms/step - loss: 0.2796 - val_loss: 0.2816\n",
      "Epoch 11/50\n",
      "235/235 [==============================] - 9s 37ms/step - loss: 0.2786 - val_loss: 0.2804\n",
      "Epoch 12/50\n",
      "235/235 [==============================] - 9s 37ms/step - loss: 0.2777 - val_loss: 0.2798\n",
      "Epoch 13/50\n",
      "235/235 [==============================] - 9s 37ms/step - loss: 0.2770 - val_loss: 0.2795\n",
      "Epoch 14/50\n",
      "235/235 [==============================] - 9s 37ms/step - loss: 0.2764 - val_loss: 0.2783\n",
      "Epoch 15/50\n",
      "235/235 [==============================] - 9s 37ms/step - loss: 0.2756 - val_loss: 0.2779\n",
      "Epoch 16/50\n",
      "235/235 [==============================] - 9s 37ms/step - loss: 0.2751 - val_loss: 0.2773\n",
      "Epoch 17/50\n",
      "235/235 [==============================] - 9s 37ms/step - loss: 0.2745 - val_loss: 0.2770\n",
      "Epoch 18/50\n",
      "235/235 [==============================] - 9s 37ms/step - loss: 0.2741 - val_loss: 0.2767\n",
      "Epoch 19/50\n",
      "235/235 [==============================] - 9s 37ms/step - loss: 0.2736 - val_loss: 0.2762\n",
      "Epoch 20/50\n",
      "235/235 [==============================] - 9s 36ms/step - loss: 0.2733 - val_loss: 0.2755\n",
      "Epoch 21/50\n",
      "235/235 [==============================] - 9s 37ms/step - loss: 0.2729 - val_loss: 0.2758\n",
      "Epoch 22/50\n",
      "235/235 [==============================] - 9s 37ms/step - loss: 0.2725 - val_loss: 0.2756\n",
      "Epoch 23/50\n",
      "235/235 [==============================] - 9s 37ms/step - loss: 0.2722 - val_loss: 0.2750\n",
      "Epoch 24/50\n",
      "235/235 [==============================] - 9s 36ms/step - loss: 0.2719 - val_loss: 0.2745\n",
      "Epoch 25/50\n",
      "235/235 [==============================] - 9s 37ms/step - loss: 0.2715 - val_loss: 0.2744\n",
      "Epoch 26/50\n",
      "235/235 [==============================] - 9s 37ms/step - loss: 0.2712 - val_loss: 0.2742\n",
      "Epoch 27/50\n",
      "235/235 [==============================] - 9s 37ms/step - loss: 0.2711 - val_loss: 0.2743\n",
      "Epoch 28/50\n",
      "235/235 [==============================] - 9s 37ms/step - loss: 0.2708 - val_loss: 0.2734\n",
      "Epoch 29/50\n",
      "235/235 [==============================] - 9s 36ms/step - loss: 0.2706 - val_loss: 0.2731\n",
      "Epoch 30/50\n",
      "235/235 [==============================] - 9s 37ms/step - loss: 0.2704 - val_loss: 0.2731\n",
      "Epoch 31/50\n",
      "235/235 [==============================] - 9s 37ms/step - loss: 0.2702 - val_loss: 0.2727\n",
      "Epoch 32/50\n",
      "235/235 [==============================] - 9s 37ms/step - loss: 0.2699 - val_loss: 0.2728\n",
      "Epoch 33/50\n",
      "235/235 [==============================] - 9s 37ms/step - loss: 0.2697 - val_loss: 0.2725\n",
      "Epoch 34/50\n",
      "235/235 [==============================] - 9s 37ms/step - loss: 0.2696 - val_loss: 0.2722\n",
      "Epoch 35/50\n",
      "235/235 [==============================] - 9s 37ms/step - loss: 0.2694 - val_loss: 0.2732\n",
      "Epoch 36/50\n",
      "235/235 [==============================] - 9s 36ms/step - loss: 0.2693 - val_loss: 0.2724\n",
      "Epoch 37/50\n",
      "235/235 [==============================] - 9s 37ms/step - loss: 0.2691 - val_loss: 0.2724\n",
      "Epoch 38/50\n",
      "235/235 [==============================] - 9s 37ms/step - loss: 0.2690 - val_loss: 0.2724\n",
      "Epoch 39/50\n",
      "235/235 [==============================] - 9s 37ms/step - loss: 0.2688 - val_loss: 0.2717\n",
      "Epoch 40/50\n",
      "235/235 [==============================] - 9s 37ms/step - loss: 0.2688 - val_loss: 0.2716\n",
      "Epoch 41/50\n",
      "235/235 [==============================] - 9s 37ms/step - loss: 0.2686 - val_loss: 0.2719\n",
      "Epoch 42/50\n",
      "235/235 [==============================] - 9s 37ms/step - loss: 0.2685 - val_loss: 0.2715\n",
      "Epoch 43/50\n",
      "235/235 [==============================] - 9s 37ms/step - loss: 0.2684 - val_loss: 0.2718\n",
      "Epoch 44/50\n",
      "235/235 [==============================] - 9s 37ms/step - loss: 0.2683 - val_loss: 0.2715\n",
      "Epoch 45/50\n",
      "235/235 [==============================] - 9s 37ms/step - loss: 0.2682 - val_loss: 0.2716\n",
      "Epoch 46/50\n",
      "235/235 [==============================] - 9s 37ms/step - loss: 0.2681 - val_loss: 0.2712\n",
      "Epoch 47/50\n",
      "235/235 [==============================] - 9s 37ms/step - loss: 0.2679 - val_loss: 0.2713\n",
      "Epoch 48/50\n",
      "235/235 [==============================] - 9s 37ms/step - loss: 0.2678 - val_loss: 0.2710\n",
      "Epoch 49/50\n",
      "235/235 [==============================] - 9s 37ms/step - loss: 0.2678 - val_loss: 0.2713\n",
      "Epoch 50/50\n",
      "235/235 [==============================] - 9s 37ms/step - loss: 0.2677 - val_loss: 0.2708\n"
     ]
    },
    {
     "data": {
      "text/plain": [
       "<keras.callbacks.History at 0x7fea72661190>"
      ]
     },
     "execution_count": 20,
     "metadata": {},
     "output_type": "execute_result"
    }
   ],
   "source": [
    "autoencoder.compile(optimizer = 'adam' , loss ='binary_crossentropy')\n",
    "\n",
    "autoencoder.fit(X_train, X_train,\n",
    "                epochs=50,\n",
    "                batch_size=256,\n",
    "                shuffle=True,\n",
    "                validation_data=(X_val, X_val))"
   ]
  },
  {
   "cell_type": "code",
   "execution_count": 21,
   "metadata": {
    "id": "7AMRu4kmtWCK"
   },
   "outputs": [],
   "source": [
    "X_train_red_deep = encoder.predict(X_train)"
   ]
  },
  {
   "cell_type": "code",
   "execution_count": 22,
   "metadata": {
    "colab": {
     "base_uri": "https://localhost:8080/"
    },
    "id": "XnNaNhKOvpnt",
    "outputId": "7100a0d5-91a8-4132-e598-1d11da6e76a1"
   },
   "outputs": [
    {
     "data": {
      "text/plain": [
       "0.8639"
      ]
     },
     "execution_count": 22,
     "metadata": {},
     "output_type": "execute_result"
    }
   ],
   "source": [
    "X_val_red_deep = encoder.predict(X_val)\n",
    "knn = KNeighborsClassifier(n_neighbors=15).fit(X_train_red_deep,y_train)\n",
    "\n",
    "preds = knn.predict(X_val_red_deep)\n",
    "\n",
    "accuracy_score(y_val,preds)"
   ]
  },
  {
   "cell_type": "markdown",
   "metadata": {
    "id": "pe-xjqs3v_Ni"
   },
   "source": [
    "# Luego\n",
    "# Experimentacion con multiples profundidades"
   ]
  },
  {
   "cell_type": "code",
   "execution_count": null,
   "metadata": {
    "id": "mH_Y0XU7yzAQ"
   },
   "outputs": [],
   "source": []
  }
 ],
 "metadata": {
  "accelerator": "TPU",
  "colab": {
   "name": "Autoencoder basico.ipynb",
   "provenance": []
  },
  "kernelspec": {
   "display_name": "Python 3 (ipykernel)",
   "language": "python",
   "name": "python3"
  },
  "language_info": {
   "codemirror_mode": {
    "name": "ipython",
    "version": 3
   },
   "file_extension": ".py",
   "mimetype": "text/x-python",
   "name": "python",
   "nbconvert_exporter": "python",
   "pygments_lexer": "ipython3",
   "version": "3.8.10"
  }
 },
 "nbformat": 4,
 "nbformat_minor": 1
}
